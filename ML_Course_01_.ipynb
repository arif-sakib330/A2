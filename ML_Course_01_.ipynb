{
  "nbformat": 4,
  "nbformat_minor": 0,
  "metadata": {
    "colab": {
      "provenance": [],
      "authorship_tag": "ABX9TyOygdHfHycR4Q33oXTpSvi9",
      "include_colab_link": true
    },
    "kernelspec": {
      "name": "python3",
      "display_name": "Python 3"
    },
    "language_info": {
      "name": "python"
    }
  },
  "cells": [
    {
      "cell_type": "markdown",
      "metadata": {
        "id": "view-in-github",
        "colab_type": "text"
      },
      "source": [
        "<a href=\"https://colab.research.google.com/github/arif-sakib330/A2/blob/main/ML_Course_01_.ipynb\" target=\"_parent\"><img src=\"https://colab.research.google.com/assets/colab-badge.svg\" alt=\"Open In Colab\"/></a>"
      ]
    },
    {
      "cell_type": "markdown",
      "source": [
        "# **Machine Learning**\n"
      ],
      "metadata": {
        "id": "jO_qINe_xEsD"
      }
    },
    {
      "cell_type": "markdown",
      "source": [
        "**Keyboard Shortcut**\n",
        "\n",
        "---\n",
        "Ctrl + /       =   Comment\n",
        "\n",
        "Shift + Enter  =   Run + Next cell\n",
        "\n",
        "Ctrl + Enter   =   Run\n",
        "\n",
        "Alt + Enter    =   Run + Create new cell\n",
        "\n",
        "Ctrl + M + A   =\t নতুন code cell উপর add\n",
        "\n",
        "Ctrl + M + B   =\t নতুন code cell নিচে add\n",
        "\n",
        "Ctrl + M + D   =   Current cell delete\n",
        "\n",
        "Ctrl + M + Z   =\t Deleted cell undo\n",
        "\n",
        "Ctrl + F\t     =   Find in cell\n",
        "\n",
        "Ctrl + H\t     =   Replace in cell\n",
        "\n",
        "Ctrl + Shift + F   =  Find across notebook\n"
      ],
      "metadata": {
        "id": "7F-GBTZNNlHq"
      }
    },
    {
      "cell_type": "markdown",
      "source": [
        "# 2.2. Python Basics"
      ],
      "metadata": {
        "id": "fnBEGkSax7v8"
      }
    },
    {
      "cell_type": "markdown",
      "source": [
        "**Programming language for ml**\n",
        "\n",
        "---\n",
        "\n",
        "\n",
        "\n",
        "\n",
        "1.   Python\n",
        "2.   R\n",
        "\n"
      ],
      "metadata": {
        "id": "mwQ8K3fhyqNN"
      }
    },
    {
      "cell_type": "markdown",
      "source": [
        "**Basic Data Types**\n",
        "\n",
        "---\n",
        "\n",
        "1.   int\n",
        "2.   float\n",
        "3.   str\n",
        "4.   boolean\n",
        "5.   none\n",
        "6.   complex ( 2+3j )\n",
        "\n",
        "\n"
      ],
      "metadata": {
        "id": "ziBOu9du0g2g"
      }
    },
    {
      "cell_type": "code",
      "source": [
        "print(\"Machine Learning\")"
      ],
      "metadata": {
        "colab": {
          "base_uri": "https://localhost:8080/"
        },
        "id": "WO7rEhPJy-VZ",
        "outputId": "b90ed681-40f2-483a-d724-25cf50ac6856"
      },
      "execution_count": null,
      "outputs": [
        {
          "output_type": "stream",
          "name": "stdout",
          "text": [
            "Machine Learning\n"
          ]
        }
      ]
    },
    {
      "cell_type": "code",
      "source": [
        "print(\"Arif\"+\" Mohammad\")"
      ],
      "metadata": {
        "colab": {
          "base_uri": "https://localhost:8080/"
        },
        "id": "zELvGX80zn3O",
        "outputId": "940b7475-d99d-4984-db3b-8d372eae1cb2"
      },
      "execution_count": null,
      "outputs": [
        {
          "output_type": "stream",
          "name": "stdout",
          "text": [
            "Arif Mohammad\n"
          ]
        }
      ]
    },
    {
      "cell_type": "code",
      "source": [],
      "metadata": {
        "id": "TQkkXDZpO92e"
      },
      "execution_count": null,
      "outputs": []
    },
    {
      "cell_type": "code",
      "source": [
        "print(9+12)\n",
        "print(9-12)\n",
        "print(9*12)\n",
        "print(9/12)"
      ],
      "metadata": {
        "colab": {
          "base_uri": "https://localhost:8080/"
        },
        "id": "Ace82CVR0NjA",
        "outputId": "8d2a2e54-a38e-450d-a6af-502637888ec9"
      },
      "execution_count": null,
      "outputs": [
        {
          "output_type": "stream",
          "name": "stdout",
          "text": [
            "21\n",
            "-3\n",
            "108\n",
            "0.75\n"
          ]
        }
      ]
    },
    {
      "cell_type": "code",
      "source": [
        "type (2.2)\n"
      ],
      "metadata": {
        "colab": {
          "base_uri": "https://localhost:8080/"
        },
        "id": "FRZdwtU_0-aV",
        "outputId": "f5094df8-a7b6-4a78-c760-ee1c03b41348"
      },
      "execution_count": null,
      "outputs": [
        {
          "output_type": "execute_result",
          "data": {
            "text/plain": [
              "float"
            ]
          },
          "metadata": {},
          "execution_count": 23
        }
      ]
    },
    {
      "cell_type": "code",
      "source": [
        "type(\"sakib\")\n"
      ],
      "metadata": {
        "colab": {
          "base_uri": "https://localhost:8080/"
        },
        "id": "ebP1BiEH1baw",
        "outputId": "81aa323a-b23e-41ff-9ce9-38401f076eb1"
      },
      "execution_count": null,
      "outputs": [
        {
          "output_type": "execute_result",
          "data": {
            "text/plain": [
              "str"
            ]
          },
          "metadata": {},
          "execution_count": 24
        }
      ]
    },
    {
      "cell_type": "code",
      "source": [
        "type(True)"
      ],
      "metadata": {
        "colab": {
          "base_uri": "https://localhost:8080/"
        },
        "id": "JLvzWSpN1dKu",
        "outputId": "33b22e6e-1e3e-4c5e-963b-cfaa8e37509c"
      },
      "execution_count": null,
      "outputs": [
        {
          "output_type": "execute_result",
          "data": {
            "text/plain": [
              "bool"
            ]
          },
          "metadata": {},
          "execution_count": 26
        }
      ]
    },
    {
      "cell_type": "code",
      "source": [
        "type (2)"
      ],
      "metadata": {
        "colab": {
          "base_uri": "https://localhost:8080/"
        },
        "id": "rRngOoIy1k3B",
        "outputId": "697d8d9f-3962-4a51-f4c5-cf2933f8e92e"
      },
      "execution_count": null,
      "outputs": [
        {
          "output_type": "execute_result",
          "data": {
            "text/plain": [
              "int"
            ]
          },
          "metadata": {},
          "execution_count": 3
        }
      ]
    },
    {
      "cell_type": "markdown",
      "source": [
        " **Constants and Variables**\n",
        "\n",
        "---\n",
        "\n"
      ],
      "metadata": {
        "id": "0VQCl2jw44CT"
      }
    },
    {
      "cell_type": "code",
      "source": [
        "name = \"sakib\"\n",
        "print(name)"
      ],
      "metadata": {
        "colab": {
          "base_uri": "https://localhost:8080/"
        },
        "id": "9Zi78UT15A2j",
        "outputId": "0a416dfa-3502-46ff-e105-f183b6d4d9e0"
      },
      "execution_count": null,
      "outputs": [
        {
          "output_type": "stream",
          "name": "stdout",
          "text": [
            "sakib\n"
          ]
        }
      ]
    },
    {
      "cell_type": "code",
      "source": [
        "name = (\"Arif\")\n",
        "print(name)"
      ],
      "metadata": {
        "id": "9OqLiZPj5Ziu"
      },
      "execution_count": null,
      "outputs": []
    },
    {
      "cell_type": "code",
      "source": [
        "hero1,hero2,hero3 = \"arif\",\"md\",\"sakib\"\n",
        "print(hero1)\n",
        "print(hero2)\n",
        "print(hero3)"
      ],
      "metadata": {
        "colab": {
          "base_uri": "https://localhost:8080/"
        },
        "id": "qgPQpNxUFN5m",
        "outputId": "6a4fb859-735c-4cd4-fa6a-044d28510ff6"
      },
      "execution_count": null,
      "outputs": [
        {
          "output_type": "stream",
          "name": "stdout",
          "text": [
            "arif\n",
            "md\n",
            "sakib\n"
          ]
        }
      ]
    },
    {
      "cell_type": "code",
      "source": [
        "x = y = z = 28\n",
        "print(x)\n",
        "print(y)\n",
        "print(z)"
      ],
      "metadata": {
        "colab": {
          "base_uri": "https://localhost:8080/"
        },
        "id": "uLaIIDXuGIRf",
        "outputId": "7f7d1da7-a661-4739-bf16-e7d2c52040c9"
      },
      "execution_count": null,
      "outputs": [
        {
          "output_type": "stream",
          "name": "stdout",
          "text": [
            "28\n",
            "28\n",
            "28\n"
          ]
        }
      ]
    },
    {
      "cell_type": "markdown",
      "source": [
        "**Input Command**\n",
        "\n",
        "---\n",
        "\n"
      ],
      "metadata": {
        "id": "uU4W-2KJGjbE"
      }
    },
    {
      "cell_type": "code",
      "source": [
        "name = input(\"enter your name : \")\n",
        "age = input(\"enter your age : \")\n",
        "print(\"Name :\",name)\n",
        "print(\"Age : \",age)"
      ],
      "metadata": {
        "colab": {
          "base_uri": "https://localhost:8080/"
        },
        "id": "W7YX7eouGsQf",
        "outputId": "1276c5b5-7aed-4b60-e60e-757ca8e7383b"
      },
      "execution_count": null,
      "outputs": [
        {
          "output_type": "stream",
          "name": "stdout",
          "text": [
            "enter your name : sakib\n",
            "enter your age : arif\n",
            "Name : sakib\n",
            "Age :  arif\n"
          ]
        }
      ]
    },
    {
      "cell_type": "code",
      "source": [
        "num1 = input(\"first num : \")\n",
        "num2 = input(\"2nd num : \")\n",
        "print(num1 + num2)\n",
        "#akane num add hoi na cz input gola str hisbe input hoi tai."
      ],
      "metadata": {
        "colab": {
          "base_uri": "https://localhost:8080/"
        },
        "id": "R8ySdDqmHJT1",
        "outputId": "7447568f-e982-4b83-db3c-3e507ab08042"
      },
      "execution_count": null,
      "outputs": [
        {
          "output_type": "stream",
          "name": "stdout",
          "text": [
            "first num : 25\n",
            "2nd num : 1\n",
            "251\n"
          ]
        }
      ]
    },
    {
      "cell_type": "code",
      "source": [
        "num1 = int(input(\"first num : \"))\n",
        "num2 = int(input(\"2nd num : \"))\n",
        "print(num1 + num2)"
      ],
      "metadata": {
        "id": "B9ZiFR8aH4uo"
      },
      "execution_count": null,
      "outputs": []
    },
    {
      "cell_type": "markdown",
      "source": [
        "**Change data type**\n",
        "\n",
        "---\n",
        "\n"
      ],
      "metadata": {
        "id": "cBJH_10TIgro"
      }
    },
    {
      "cell_type": "code",
      "source": [
        "age = 25\n",
        "age_str = str(age)\n",
        "print(age_str)\n",
        "print(type(age_str))"
      ],
      "metadata": {
        "colab": {
          "base_uri": "https://localhost:8080/"
        },
        "id": "U67BDoELIo2S",
        "outputId": "5de2fed7-2673-405b-bcdd-bfcba7a3a82d"
      },
      "execution_count": null,
      "outputs": [
        {
          "output_type": "stream",
          "name": "stdout",
          "text": [
            "25\n",
            "<class 'str'>\n"
          ]
        }
      ]
    },
    {
      "cell_type": "code",
      "source": [],
      "metadata": {
        "id": "-CfIdd4WMuTh"
      },
      "execution_count": null,
      "outputs": []
    },
    {
      "cell_type": "markdown",
      "source": [
        "# **2.3 Pythob basic data type**"
      ],
      "metadata": {
        "id": "nPq566DIKAwH"
      }
    },
    {
      "cell_type": "code",
      "source": [
        "a = \"sakib\"\n",
        "b = 2.4\n",
        "c= 5\n",
        "d = True\n",
        "e = 2+3j\n",
        "type(e)"
      ],
      "metadata": {
        "colab": {
          "base_uri": "https://localhost:8080/"
        },
        "id": "L1HqiUox_2Nc",
        "outputId": "75b2eb55-519a-40ee-a68f-3b9f4c9708ff"
      },
      "execution_count": null,
      "outputs": [
        {
          "output_type": "execute_result",
          "data": {
            "text/plain": [
              "complex"
            ]
          },
          "metadata": {},
          "execution_count": 8
        }
      ]
    },
    {
      "cell_type": "code",
      "source": [
        "type(e)\n",
        "print(e)"
      ],
      "metadata": {
        "colab": {
          "base_uri": "https://localhost:8080/"
        },
        "id": "3e1SerDRALPW",
        "outputId": "07ec43b7-9cad-4778-8432-8a1e36d5e5ed"
      },
      "execution_count": null,
      "outputs": [
        {
          "output_type": "stream",
          "name": "stdout",
          "text": [
            "(2+3j)\n"
          ]
        }
      ]
    },
    {
      "cell_type": "markdown",
      "source": [
        "*Conversion data type to another*\n",
        "\n",
        "---\n",
        "\n"
      ],
      "metadata": {
        "id": "tmupi8DDBcUs"
      }
    },
    {
      "cell_type": "code",
      "source": [
        "a = 5\n",
        "b = 3.5\n",
        "print(float(a))\n",
        "type(float(a))\n",
        "print(int(b))\n",
        "type(int(b))"
      ],
      "metadata": {
        "id": "wQ8QuuTuBk6-"
      },
      "execution_count": null,
      "outputs": []
    },
    {
      "cell_type": "code",
      "source": [
        "condition = 7 > 5\n",
        "print(condition)\n",
        "type(condition)"
      ],
      "metadata": {
        "id": "14z8Fl95DYzA"
      },
      "execution_count": null,
      "outputs": []
    }
  ]
}