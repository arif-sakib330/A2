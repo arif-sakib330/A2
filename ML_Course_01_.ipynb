{
  "nbformat": 4,
  "nbformat_minor": 0,
  "metadata": {
    "colab": {
      "provenance": [],
      "authorship_tag": "ABX9TyN6+3YOxcTcnVBakv9hn44T",
      "include_colab_link": true
    },
    "kernelspec": {
      "name": "python3",
      "display_name": "Python 3"
    },
    "language_info": {
      "name": "python"
    }
  },
  "cells": [
    {
      "cell_type": "markdown",
      "metadata": {
        "id": "view-in-github",
        "colab_type": "text"
      },
      "source": [
        "<a href=\"https://colab.research.google.com/github/arif-sakib330/A2/blob/main/ML_Course_01_.ipynb\" target=\"_parent\"><img src=\"https://colab.research.google.com/assets/colab-badge.svg\" alt=\"Open In Colab\"/></a>"
      ]
    },
    {
      "cell_type": "markdown",
      "source": [
        "# **Machine Learning**\n"
      ],
      "metadata": {
        "id": "jO_qINe_xEsD"
      }
    },
    {
      "cell_type": "code",
      "source": [
        "import os\n",
        "from google.colab import userdata\n",
        "\n",
        "token = userdata.get('Github_Token')\n",
        "\n",
        "username = \"arif-sakib330\"\n",
        "repo = \"Machine-Learning\"\n",
        "branch = \"main\"\n",
        "\n",
        "repo_url = f\"https://github.com/arif-sakib330/Machine-Learning\"\n",
        "\n",
        "!git clone -b {main} {https://github.com/arif-sakib330/Machine-Learning}\n"
      ],
      "metadata": {
        "colab": {
          "base_uri": "https://localhost:8080/"
        },
        "id": "UaksgqqVY9TU",
        "outputId": "e0b99b4f-4218-409c-8846-f6e13b8ca5f5"
      },
      "execution_count": 15,
      "outputs": [
        {
          "output_type": "stream",
          "name": "stdout",
          "text": [
            "Cloning into 'Machine-Learning}'...\n",
            "fatal: protocol '{https' is not supported\n"
          ]
        }
      ]
    },
    {
      "cell_type": "markdown",
      "source": [
        "**Keyboard Shortcut**\n",
        "\n",
        "---\n",
        "Ctrl + /       =   Comment\n",
        "\n",
        "Shift + Enter  =   Run + Next cell\n",
        "\n",
        "Ctrl + Enter   =   Run\n",
        "\n",
        "Alt + Enter    =   Run + Create new cell\n",
        "\n",
        "Ctrl + M + A   =\t নতুন code cell উপর add\n",
        "\n",
        "Ctrl + M + B   =\t নতুন code cell নিচে add\n",
        "\n",
        "Ctrl + M + D   =   Current cell delete\n",
        "\n",
        "Ctrl + M + Z   =\t Deleted cell undo\n",
        "\n",
        "Ctrl + F\t     =   Find in cell\n",
        "\n",
        "Ctrl + H\t     =   Replace in cell\n",
        "\n",
        "Ctrl + Shift + F   =  Find across notebook\n"
      ],
      "metadata": {
        "id": "7F-GBTZNNlHq"
      }
    },
    {
      "cell_type": "markdown",
      "source": [
        "# 2.2. Python Basics"
      ],
      "metadata": {
        "id": "fnBEGkSax7v8"
      }
    },
    {
      "cell_type": "markdown",
      "source": [
        "**Programming language for ml**\n",
        "\n",
        "---\n",
        "\n",
        "\n",
        "\n",
        "\n",
        "1.   Python\n",
        "2.   R\n",
        "\n"
      ],
      "metadata": {
        "id": "mwQ8K3fhyqNN"
      }
    },
    {
      "cell_type": "markdown",
      "source": [
        "**Basic Data Types**\n",
        "\n",
        "---\n",
        "\n",
        "1.   int\n",
        "2.   float\n",
        "3.   str\n",
        "4.   boolean\n",
        "5.   none\n",
        "\n",
        "\n"
      ],
      "metadata": {
        "id": "ziBOu9du0g2g"
      }
    },
    {
      "cell_type": "code",
      "source": [
        "print(\"Machine Learning\")"
      ],
      "metadata": {
        "colab": {
          "base_uri": "https://localhost:8080/"
        },
        "id": "WO7rEhPJy-VZ",
        "outputId": "b90ed681-40f2-483a-d724-25cf50ac6856"
      },
      "execution_count": 12,
      "outputs": [
        {
          "output_type": "stream",
          "name": "stdout",
          "text": [
            "Machine Learning\n"
          ]
        }
      ]
    },
    {
      "cell_type": "code",
      "source": [
        "print(\"Arif\"+\" Mohammad\")"
      ],
      "metadata": {
        "colab": {
          "base_uri": "https://localhost:8080/"
        },
        "id": "zELvGX80zn3O",
        "outputId": "940b7475-d99d-4984-db3b-8d372eae1cb2"
      },
      "execution_count": 13,
      "outputs": [
        {
          "output_type": "stream",
          "name": "stdout",
          "text": [
            "Arif Mohammad\n"
          ]
        }
      ]
    },
    {
      "cell_type": "code",
      "source": [],
      "metadata": {
        "id": "TQkkXDZpO92e"
      },
      "execution_count": null,
      "outputs": []
    },
    {
      "cell_type": "code",
      "source": [
        "print(9+12)\n",
        "print(9-12)\n",
        "print(9*12)\n",
        "print(9/12)"
      ],
      "metadata": {
        "colab": {
          "base_uri": "https://localhost:8080/"
        },
        "id": "Ace82CVR0NjA",
        "outputId": "8d2a2e54-a38e-450d-a6af-502637888ec9"
      },
      "execution_count": 20,
      "outputs": [
        {
          "output_type": "stream",
          "name": "stdout",
          "text": [
            "21\n",
            "-3\n",
            "108\n",
            "0.75\n"
          ]
        }
      ]
    },
    {
      "cell_type": "code",
      "source": [
        "type (2.2)\n"
      ],
      "metadata": {
        "colab": {
          "base_uri": "https://localhost:8080/"
        },
        "id": "FRZdwtU_0-aV",
        "outputId": "f5094df8-a7b6-4a78-c760-ee1c03b41348"
      },
      "execution_count": 23,
      "outputs": [
        {
          "output_type": "execute_result",
          "data": {
            "text/plain": [
              "float"
            ]
          },
          "metadata": {},
          "execution_count": 23
        }
      ]
    },
    {
      "cell_type": "code",
      "source": [
        "type(\"sakib\")\n"
      ],
      "metadata": {
        "colab": {
          "base_uri": "https://localhost:8080/"
        },
        "id": "ebP1BiEH1baw",
        "outputId": "81aa323a-b23e-41ff-9ce9-38401f076eb1"
      },
      "execution_count": 24,
      "outputs": [
        {
          "output_type": "execute_result",
          "data": {
            "text/plain": [
              "str"
            ]
          },
          "metadata": {},
          "execution_count": 24
        }
      ]
    },
    {
      "cell_type": "code",
      "source": [
        "type(True)"
      ],
      "metadata": {
        "colab": {
          "base_uri": "https://localhost:8080/"
        },
        "id": "JLvzWSpN1dKu",
        "outputId": "33b22e6e-1e3e-4c5e-963b-cfaa8e37509c"
      },
      "execution_count": 26,
      "outputs": [
        {
          "output_type": "execute_result",
          "data": {
            "text/plain": [
              "bool"
            ]
          },
          "metadata": {},
          "execution_count": 26
        }
      ]
    },
    {
      "cell_type": "code",
      "source": [
        "type (2)"
      ],
      "metadata": {
        "colab": {
          "base_uri": "https://localhost:8080/"
        },
        "id": "rRngOoIy1k3B",
        "outputId": "697d8d9f-3962-4a51-f4c5-cf2933f8e92e"
      },
      "execution_count": 3,
      "outputs": [
        {
          "output_type": "execute_result",
          "data": {
            "text/plain": [
              "int"
            ]
          },
          "metadata": {},
          "execution_count": 3
        }
      ]
    },
    {
      "cell_type": "markdown",
      "source": [
        " **Constants and Variables**\n",
        "\n",
        "---\n",
        "\n"
      ],
      "metadata": {
        "id": "0VQCl2jw44CT"
      }
    },
    {
      "cell_type": "code",
      "source": [
        "name = \"sakib\"\n",
        "print(name)"
      ],
      "metadata": {
        "colab": {
          "base_uri": "https://localhost:8080/"
        },
        "id": "9Zi78UT15A2j",
        "outputId": "0a416dfa-3502-46ff-e105-f183b6d4d9e0"
      },
      "execution_count": 2,
      "outputs": [
        {
          "output_type": "stream",
          "name": "stdout",
          "text": [
            "sakib\n"
          ]
        }
      ]
    },
    {
      "cell_type": "code",
      "source": [
        "name = (\"Arif\")\n",
        "print(name)"
      ],
      "metadata": {
        "id": "9OqLiZPj5Ziu"
      },
      "execution_count": 1,
      "outputs": []
    },
    {
      "cell_type": "code",
      "source": [
        "hero1,hero2,hero3 = \"arif\",\"md\",\"sakib\"\n",
        "print(hero1)\n",
        "print(hero2)\n",
        "print(hero3)"
      ],
      "metadata": {
        "colab": {
          "base_uri": "https://localhost:8080/"
        },
        "id": "qgPQpNxUFN5m",
        "outputId": "6a4fb859-735c-4cd4-fa6a-044d28510ff6"
      },
      "execution_count": 4,
      "outputs": [
        {
          "output_type": "stream",
          "name": "stdout",
          "text": [
            "arif\n",
            "md\n",
            "sakib\n"
          ]
        }
      ]
    },
    {
      "cell_type": "code",
      "source": [
        "x = y = z = 28\n",
        "print(x)\n",
        "print(y)\n",
        "print(z)"
      ],
      "metadata": {
        "colab": {
          "base_uri": "https://localhost:8080/"
        },
        "id": "uLaIIDXuGIRf",
        "outputId": "7f7d1da7-a661-4739-bf16-e7d2c52040c9"
      },
      "execution_count": 5,
      "outputs": [
        {
          "output_type": "stream",
          "name": "stdout",
          "text": [
            "28\n",
            "28\n",
            "28\n"
          ]
        }
      ]
    },
    {
      "cell_type": "markdown",
      "source": [
        "**Input Command**\n",
        "\n",
        "---\n",
        "\n"
      ],
      "metadata": {
        "id": "uU4W-2KJGjbE"
      }
    },
    {
      "cell_type": "code",
      "source": [
        "name = input(\"enter your name : \")\n",
        "age = input(\"enter your age : \")\n",
        "print(\"Name :\",name)\n",
        "print(\"Age : \",age)"
      ],
      "metadata": {
        "colab": {
          "base_uri": "https://localhost:8080/"
        },
        "id": "W7YX7eouGsQf",
        "outputId": "1276c5b5-7aed-4b60-e60e-757ca8e7383b"
      },
      "execution_count": 10,
      "outputs": [
        {
          "output_type": "stream",
          "name": "stdout",
          "text": [
            "enter your name : sakib\n",
            "enter your age : arif\n",
            "Name : sakib\n",
            "Age :  arif\n"
          ]
        }
      ]
    },
    {
      "cell_type": "code",
      "source": [
        "num1 = input(\"first num : \")\n",
        "num2 = input(\"2nd num : \")\n",
        "print(num1 + num2)\n",
        "#akane num add hoi na cz input gola str hisbe input hoi tai."
      ],
      "metadata": {
        "colab": {
          "base_uri": "https://localhost:8080/"
        },
        "id": "R8ySdDqmHJT1",
        "outputId": "7447568f-e982-4b83-db3c-3e507ab08042"
      },
      "execution_count": 9,
      "outputs": [
        {
          "output_type": "stream",
          "name": "stdout",
          "text": [
            "first num : 25\n",
            "2nd num : 1\n",
            "251\n"
          ]
        }
      ]
    },
    {
      "cell_type": "code",
      "source": [
        "num1 = int(input(\"first num : \"))\n",
        "num2 = int(input(\"2nd num : \"))\n",
        "print(num1 + num2)"
      ],
      "metadata": {
        "id": "B9ZiFR8aH4uo"
      },
      "execution_count": null,
      "outputs": []
    },
    {
      "cell_type": "markdown",
      "source": [
        "**Change data type**\n",
        "\n",
        "---\n",
        "\n"
      ],
      "metadata": {
        "id": "cBJH_10TIgro"
      }
    },
    {
      "cell_type": "code",
      "source": [
        "age = 25\n",
        "age_str = str(age)\n",
        "print(age_str)\n",
        "print(type(age_str))"
      ],
      "metadata": {
        "colab": {
          "base_uri": "https://localhost:8080/"
        },
        "id": "U67BDoELIo2S",
        "outputId": "5de2fed7-2673-405b-bcdd-bfcba7a3a82d"
      },
      "execution_count": 11,
      "outputs": [
        {
          "output_type": "stream",
          "name": "stdout",
          "text": [
            "25\n",
            "<class 'str'>\n"
          ]
        }
      ]
    },
    {
      "cell_type": "code",
      "source": [],
      "metadata": {
        "id": "-CfIdd4WMuTh"
      },
      "execution_count": null,
      "outputs": []
    },
    {
      "cell_type": "markdown",
      "source": [
        "# **2.3 Pythob basic data type**"
      ],
      "metadata": {
        "id": "nPq566DIKAwH"
      }
    },
    {
      "cell_type": "code",
      "source": [
        "import shutil\n",
        "import os\n",
        "\n",
        "# পুরানো folder থাকলে remove করো\n",
        "if os.path.exists(\"/content/ML_Note\"):\n",
        "    shutil.rmtree(\"/content/ML_Note\")\n"
      ],
      "metadata": {
        "id": "luVi9XQjk3W7"
      },
      "execution_count": 60,
      "outputs": []
    },
    {
      "cell_type": "code",
      "source": [
        "import os\n",
        "from google.colab import userdata\n",
        "\n",
        "# Colab secret থেকে token নাও\n",
        "token = userdata.get('GITHUB_TOKEN')\n",
        "username = \"arif-sakib330\"\n",
        "repo = \"ML_Note\"\n",
        "branch = \"main\"\n",
        "\n",
        "if token is None:\n",
        "    raise ValueError(\"⚠️ GITHUB_TOKEN পাওয়া যায়নি। Colab secrets-এ সেট করো।\")\n",
        "\n",
        "# Token + username সহ HTTPS URL\n",
        "repo_url = f\"https://github.com/arif-sakib330/ML_Note\"\n",
        "\n",
        "# /content থেকে clone\n",
        "%cd /content\n",
        "!git clone -b {branch} {repo_url}\n"
      ],
      "metadata": {
        "colab": {
          "base_uri": "https://localhost:8080/"
        },
        "id": "TMZuuOWVmk3e",
        "outputId": "7e4e6221-75c1-4172-f92e-a450d1fdb24c"
      },
      "execution_count": 62,
      "outputs": [
        {
          "output_type": "stream",
          "name": "stdout",
          "text": [
            "/content\n",
            "Cloning into 'ML_Note'...\n",
            "fatal: could not read Username for 'https://github.com': No such device or address\n"
          ]
        }
      ]
    },
    {
      "cell_type": "code",
      "source": [
        "%cd /content\n",
        "\n"
      ],
      "metadata": {
        "colab": {
          "base_uri": "https://localhost:8080/"
        },
        "id": "B5EXik5onQIP",
        "outputId": "8ed426c4-a577-4f20-fbca-d5b1cd637925"
      },
      "execution_count": 68,
      "outputs": [
        {
          "output_type": "stream",
          "name": "stdout",
          "text": [
            "/content\n"
          ]
        }
      ]
    },
    {
      "cell_type": "code",
      "source": [
        "import shutil, os\n",
        "if os.path.exists(\"ML_Note\"):\n",
        "    shutil.rmtree(\"ML_Note\")\n"
      ],
      "metadata": {
        "id": "MJu4oIlao5uN"
      },
      "execution_count": 71,
      "outputs": []
    },
    {
      "cell_type": "code",
      "source": [
        "username = \"arif-sakib330\"\n",
        "token = \"ghp_YourActualTokenHere\"  # <-- এখানে তোমার token বসাও\n",
        "repo = \"ML_Note\"\n",
        "branch = \"main\"\n",
        "\n",
        "repo_url = f\"https://github.com/arif-sakib330/ML_Note.git\"\n",
        "\n",
        "!git clone -b {branch} {repo_url}\n"
      ],
      "metadata": {
        "colab": {
          "base_uri": "https://localhost:8080/"
        },
        "id": "U37xIPVFpAZs",
        "outputId": "3488d162-bb38-4469-dd7e-4f833bd28500"
      },
      "execution_count": 72,
      "outputs": [
        {
          "output_type": "stream",
          "name": "stdout",
          "text": [
            "Cloning into 'ML_Note'...\n",
            "fatal: could not read Username for 'https://github.com': No such device or address\n"
          ]
        }
      ]
    },
    {
      "cell_type": "code",
      "source": [
        "token = \"ghp_YourActualTokenHere\"  # শুধু test purpose\n",
        "username = \"arif-sakib330\"\n",
        "repo = \"ML_Note\"\n",
        "branch = \"main\"\n",
        "\n",
        "repo_url = f\"https://github.com/arif-sakib330/ML_Note.git\"\n",
        "\n",
        "%cd /content\n",
        "!git clone -b {branch} {repo_url}\n"
      ],
      "metadata": {
        "colab": {
          "base_uri": "https://localhost:8080/"
        },
        "id": "cQluNnNgbQPW",
        "outputId": "69f01026-796e-4d7c-8293-8ebe3917a00d"
      },
      "execution_count": 65,
      "outputs": [
        {
          "output_type": "stream",
          "name": "stdout",
          "text": [
            "/content\n",
            "Cloning into 'ML_Note'...\n",
            "fatal: could not read Username for 'https://github.com': No such device or address\n"
          ]
        }
      ]
    }
  ]
}