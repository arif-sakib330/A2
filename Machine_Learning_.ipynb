{
  "nbformat": 4,
  "nbformat_minor": 0,
  "metadata": {
    "colab": {
      "provenance": [],
      "collapsed_sections": [
        "fnBEGkSax7v8",
        "nPq566DIKAwH"
      ],
      "authorship_tag": "ABX9TyPyQa3Q6x/EYLCTiFXccN/X",
      "include_colab_link": true
    },
    "kernelspec": {
      "name": "python3",
      "display_name": "Python 3"
    },
    "language_info": {
      "name": "python"
    }
  },
  "cells": [
    {
      "cell_type": "markdown",
      "metadata": {
        "id": "view-in-github",
        "colab_type": "text"
      },
      "source": [
        "<a href=\"https://colab.research.google.com/github/arif-sakib330/A2/blob/main/Machine_Learning_.ipynb\" target=\"_parent\"><img src=\"https://colab.research.google.com/assets/colab-badge.svg\" alt=\"Open In Colab\"/></a>"
      ]
    },
    {
      "cell_type": "markdown",
      "source": [
        "# **Machine Learning**\n"
      ],
      "metadata": {
        "id": "jO_qINe_xEsD"
      }
    },
    {
      "cell_type": "markdown",
      "source": [
        "**Keyboard Shortcut**\n",
        "\n",
        "---\n",
        "Ctrl + /       =   Comment\n",
        "\n",
        "Shift + Enter  =   Run + Next cell\n",
        "\n",
        "Ctrl + Enter   =   Run\n",
        "\n",
        "Alt + Enter    =   Run + Create new cell\n",
        "\n",
        "Ctrl + M + A   =\t নতুন code cell উপর add\n",
        "\n",
        "Ctrl + M + B   =\t নতুন code cell নিচে add\n",
        "\n",
        "Ctrl + M + D   =   Current cell delete\n",
        "\n",
        "Ctrl + M + Z   =\t Deleted cell undo\n",
        "\n",
        "Ctrl + F\t     =   Find in cell\n",
        "\n",
        "Ctrl + H\t     =   Replace in cell\n",
        "\n",
        "Ctrl + Shift + F   =  Find across notebook\n"
      ],
      "metadata": {
        "id": "7F-GBTZNNlHq"
      }
    },
    {
      "cell_type": "markdown",
      "source": [
        "# **2.2. Python Basics**"
      ],
      "metadata": {
        "id": "fnBEGkSax7v8"
      }
    },
    {
      "cell_type": "markdown",
      "source": [
        "**Programming language for ml**\n",
        "\n",
        "---\n",
        "\n",
        "\n",
        "\n",
        "\n",
        "1.   Python\n",
        "2.   R\n",
        "\n"
      ],
      "metadata": {
        "id": "mwQ8K3fhyqNN"
      }
    },
    {
      "cell_type": "markdown",
      "source": [
        "**Basic Data Types**\n",
        "\n",
        "---\n",
        "\n",
        "1.   int\n",
        "2.   float\n",
        "3.   str\n",
        "4.   boolean\n",
        "5.   none\n",
        "6.   complex ( 2+3j )\n",
        "\n",
        "\n"
      ],
      "metadata": {
        "id": "ziBOu9du0g2g"
      }
    },
    {
      "cell_type": "code",
      "source": [
        "print(\"Machine Learning\")"
      ],
      "metadata": {
        "colab": {
          "base_uri": "https://localhost:8080/"
        },
        "id": "WO7rEhPJy-VZ",
        "outputId": "b90ed681-40f2-483a-d724-25cf50ac6856"
      },
      "execution_count": null,
      "outputs": [
        {
          "output_type": "stream",
          "name": "stdout",
          "text": [
            "Machine Learning\n"
          ]
        }
      ]
    },
    {
      "cell_type": "code",
      "source": [
        "print(\"Arif\"+\" Mohammad\") #its called str concatenation"
      ],
      "metadata": {
        "colab": {
          "base_uri": "https://localhost:8080/"
        },
        "id": "zELvGX80zn3O",
        "outputId": "940b7475-d99d-4984-db3b-8d372eae1cb2"
      },
      "execution_count": null,
      "outputs": [
        {
          "output_type": "stream",
          "name": "stdout",
          "text": [
            "Arif Mohammad\n"
          ]
        }
      ]
    },
    {
      "cell_type": "code",
      "source": [],
      "metadata": {
        "id": "TQkkXDZpO92e"
      },
      "execution_count": null,
      "outputs": []
    },
    {
      "cell_type": "code",
      "source": [
        "print(9+12)\n",
        "print(9-12)\n",
        "print(9*12)\n",
        "print(9/12)"
      ],
      "metadata": {
        "colab": {
          "base_uri": "https://localhost:8080/"
        },
        "id": "Ace82CVR0NjA",
        "outputId": "8d2a2e54-a38e-450d-a6af-502637888ec9"
      },
      "execution_count": null,
      "outputs": [
        {
          "output_type": "stream",
          "name": "stdout",
          "text": [
            "21\n",
            "-3\n",
            "108\n",
            "0.75\n"
          ]
        }
      ]
    },
    {
      "cell_type": "code",
      "source": [
        "type (2.2)\n"
      ],
      "metadata": {
        "colab": {
          "base_uri": "https://localhost:8080/"
        },
        "id": "FRZdwtU_0-aV",
        "outputId": "f5094df8-a7b6-4a78-c760-ee1c03b41348"
      },
      "execution_count": null,
      "outputs": [
        {
          "output_type": "execute_result",
          "data": {
            "text/plain": [
              "float"
            ]
          },
          "metadata": {},
          "execution_count": 23
        }
      ]
    },
    {
      "cell_type": "code",
      "source": [
        "type(\"sakib\")\n"
      ],
      "metadata": {
        "colab": {
          "base_uri": "https://localhost:8080/"
        },
        "id": "ebP1BiEH1baw",
        "outputId": "81aa323a-b23e-41ff-9ce9-38401f076eb1"
      },
      "execution_count": null,
      "outputs": [
        {
          "output_type": "execute_result",
          "data": {
            "text/plain": [
              "str"
            ]
          },
          "metadata": {},
          "execution_count": 24
        }
      ]
    },
    {
      "cell_type": "code",
      "source": [
        "type(True)"
      ],
      "metadata": {
        "colab": {
          "base_uri": "https://localhost:8080/"
        },
        "id": "JLvzWSpN1dKu",
        "outputId": "33b22e6e-1e3e-4c5e-963b-cfaa8e37509c"
      },
      "execution_count": null,
      "outputs": [
        {
          "output_type": "execute_result",
          "data": {
            "text/plain": [
              "bool"
            ]
          },
          "metadata": {},
          "execution_count": 26
        }
      ]
    },
    {
      "cell_type": "code",
      "source": [
        "type (2)"
      ],
      "metadata": {
        "colab": {
          "base_uri": "https://localhost:8080/"
        },
        "id": "rRngOoIy1k3B",
        "outputId": "697d8d9f-3962-4a51-f4c5-cf2933f8e92e"
      },
      "execution_count": null,
      "outputs": [
        {
          "output_type": "execute_result",
          "data": {
            "text/plain": [
              "int"
            ]
          },
          "metadata": {},
          "execution_count": 3
        }
      ]
    },
    {
      "cell_type": "markdown",
      "source": [
        " **Constants and Variables**\n",
        "\n",
        "---\n",
        "\n"
      ],
      "metadata": {
        "id": "0VQCl2jw44CT"
      }
    },
    {
      "cell_type": "code",
      "source": [
        "name = \"sakib\"\n",
        "print(name)"
      ],
      "metadata": {
        "colab": {
          "base_uri": "https://localhost:8080/"
        },
        "id": "9Zi78UT15A2j",
        "outputId": "0a416dfa-3502-46ff-e105-f183b6d4d9e0"
      },
      "execution_count": null,
      "outputs": [
        {
          "output_type": "stream",
          "name": "stdout",
          "text": [
            "sakib\n"
          ]
        }
      ]
    },
    {
      "cell_type": "code",
      "source": [
        "name = (\"Arif\")\n",
        "print(name)"
      ],
      "metadata": {
        "id": "9OqLiZPj5Ziu"
      },
      "execution_count": null,
      "outputs": []
    },
    {
      "cell_type": "code",
      "source": [
        "hero1,hero2,hero3 = \"arif\",\"md\",\"sakib\"\n",
        "print(hero1)\n",
        "print(hero2)\n",
        "print(hero3)"
      ],
      "metadata": {
        "colab": {
          "base_uri": "https://localhost:8080/"
        },
        "id": "qgPQpNxUFN5m",
        "outputId": "6a4fb859-735c-4cd4-fa6a-044d28510ff6"
      },
      "execution_count": null,
      "outputs": [
        {
          "output_type": "stream",
          "name": "stdout",
          "text": [
            "arif\n",
            "md\n",
            "sakib\n"
          ]
        }
      ]
    },
    {
      "cell_type": "code",
      "source": [
        "x = y = z = 28\n",
        "print(x)\n",
        "print(y)\n",
        "print(z)"
      ],
      "metadata": {
        "colab": {
          "base_uri": "https://localhost:8080/"
        },
        "id": "uLaIIDXuGIRf",
        "outputId": "7f7d1da7-a661-4739-bf16-e7d2c52040c9"
      },
      "execution_count": null,
      "outputs": [
        {
          "output_type": "stream",
          "name": "stdout",
          "text": [
            "28\n",
            "28\n",
            "28\n"
          ]
        }
      ]
    },
    {
      "cell_type": "markdown",
      "source": [
        "**Input Command**\n",
        "\n",
        "---\n",
        "\n"
      ],
      "metadata": {
        "id": "uU4W-2KJGjbE"
      }
    },
    {
      "cell_type": "code",
      "source": [
        "name = input(\"enter your name : \")\n",
        "age = input(\"enter your age : \")\n",
        "print(\"Name :\",name)\n",
        "print(\"Age : \",age)"
      ],
      "metadata": {
        "colab": {
          "base_uri": "https://localhost:8080/"
        },
        "id": "W7YX7eouGsQf",
        "outputId": "1276c5b5-7aed-4b60-e60e-757ca8e7383b"
      },
      "execution_count": null,
      "outputs": [
        {
          "output_type": "stream",
          "name": "stdout",
          "text": [
            "enter your name : sakib\n",
            "enter your age : arif\n",
            "Name : sakib\n",
            "Age :  arif\n"
          ]
        }
      ]
    },
    {
      "cell_type": "code",
      "source": [
        "num1 = input(\"first num : \")\n",
        "num2 = input(\"2nd num : \")\n",
        "print(num1 + num2)\n",
        "#akane num add hoi na cz input gola str hisbe input hoi tai."
      ],
      "metadata": {
        "colab": {
          "base_uri": "https://localhost:8080/"
        },
        "id": "R8ySdDqmHJT1",
        "outputId": "7447568f-e982-4b83-db3c-3e507ab08042"
      },
      "execution_count": null,
      "outputs": [
        {
          "output_type": "stream",
          "name": "stdout",
          "text": [
            "first num : 25\n",
            "2nd num : 1\n",
            "251\n"
          ]
        }
      ]
    },
    {
      "cell_type": "code",
      "source": [
        "num1 = int(input(\"first num : \"))\n",
        "num2 = int(input(\"2nd num : \"))\n",
        "print(num1 + num2)"
      ],
      "metadata": {
        "id": "B9ZiFR8aH4uo"
      },
      "execution_count": null,
      "outputs": []
    },
    {
      "cell_type": "markdown",
      "source": [
        "**Change data type**\n",
        "\n",
        "---\n",
        "\n"
      ],
      "metadata": {
        "id": "cBJH_10TIgro"
      }
    },
    {
      "cell_type": "code",
      "source": [
        "age = 25\n",
        "age_str = str(age)\n",
        "print(age_str)\n",
        "print(type(age_str))"
      ],
      "metadata": {
        "colab": {
          "base_uri": "https://localhost:8080/"
        },
        "id": "U67BDoELIo2S",
        "outputId": "5de2fed7-2673-405b-bcdd-bfcba7a3a82d"
      },
      "execution_count": null,
      "outputs": [
        {
          "output_type": "stream",
          "name": "stdout",
          "text": [
            "25\n",
            "<class 'str'>\n"
          ]
        }
      ]
    },
    {
      "cell_type": "code",
      "source": [],
      "metadata": {
        "id": "-CfIdd4WMuTh"
      },
      "execution_count": null,
      "outputs": []
    },
    {
      "cell_type": "markdown",
      "source": [
        "# **2.3 Pythob basic data type**"
      ],
      "metadata": {
        "id": "nPq566DIKAwH"
      }
    },
    {
      "cell_type": "code",
      "source": [
        "a = \"sakib\"\n",
        "b = 2.4\n",
        "c= 5\n",
        "d = True\n",
        "e = 2+3j\n",
        "type(e)"
      ],
      "metadata": {
        "colab": {
          "base_uri": "https://localhost:8080/"
        },
        "id": "L1HqiUox_2Nc",
        "outputId": "75b2eb55-519a-40ee-a68f-3b9f4c9708ff"
      },
      "execution_count": null,
      "outputs": [
        {
          "output_type": "execute_result",
          "data": {
            "text/plain": [
              "complex"
            ]
          },
          "metadata": {},
          "execution_count": 8
        }
      ]
    },
    {
      "cell_type": "code",
      "source": [
        "type(e)\n",
        "print(e)"
      ],
      "metadata": {
        "colab": {
          "base_uri": "https://localhost:8080/"
        },
        "id": "3e1SerDRALPW",
        "outputId": "07ec43b7-9cad-4778-8432-8a1e36d5e5ed"
      },
      "execution_count": null,
      "outputs": [
        {
          "output_type": "stream",
          "name": "stdout",
          "text": [
            "(2+3j)\n"
          ]
        }
      ]
    },
    {
      "cell_type": "markdown",
      "source": [
        "*Conversion data type to another*\n",
        "\n",
        "---\n",
        "\n"
      ],
      "metadata": {
        "id": "tmupi8DDBcUs"
      }
    },
    {
      "cell_type": "code",
      "source": [
        "a = 5\n",
        "b = 3.5\n",
        "print(float(a))\n",
        "type(float(a))\n",
        "print(int(b))\n",
        "type(int(b))"
      ],
      "metadata": {
        "id": "wQ8QuuTuBk6-"
      },
      "execution_count": null,
      "outputs": []
    },
    {
      "cell_type": "code",
      "source": [
        "condition = 7 > 5\n",
        "print(condition)\n",
        "type(condition)"
      ],
      "metadata": {
        "id": "14z8Fl95DYzA"
      },
      "execution_count": null,
      "outputs": []
    },
    {
      "cell_type": "code",
      "source": [
        "print (\"sakib \"*10)"
      ],
      "metadata": {
        "colab": {
          "base_uri": "https://localhost:8080/"
        },
        "id": "bx3iEux5Etdj",
        "outputId": "4a6a8ba4-6490-4b7a-a5f1-8aa79c9a7353"
      },
      "execution_count": 24,
      "outputs": [
        {
          "output_type": "stream",
          "name": "stdout",
          "text": [
            "sakib sakib sakib sakib sakib sakib sakib sakib sakib sakib \n"
          ]
        }
      ]
    },
    {
      "cell_type": "markdown",
      "source": [
        "**Slicing**\n",
        "\n",
        "---\n",
        "\n"
      ],
      "metadata": {
        "id": "PPfjJnQoE6sT"
      }
    },
    {
      "cell_type": "code",
      "source": [
        "str1 = \"my name is sakib\"\n",
        "print(str1[0:2])\n",
        "print(str1[0:]) # soro teke last porjonto print hbe\n",
        "print(str1[:9]) # soro teke 9 index porjonto print hbe\n",
        "print(str1[0:12:2]) # 1 letter por por print hbe\n",
        "print(str1[0:12:3]) # 2 letter por por print hbe"
      ],
      "metadata": {
        "colab": {
          "base_uri": "https://localhost:8080/"
        },
        "id": "lpYUABr7E9uH",
        "outputId": "be3099ba-78bc-4589-a208-07642f94407c"
      },
      "execution_count": 38,
      "outputs": [
        {
          "output_type": "stream",
          "name": "stdout",
          "text": [
            "my\n",
            "my name is sakib\n",
            "my name i\n",
            "m aei \n",
            "mnes\n"
          ]
        }
      ]
    },
    {
      "cell_type": "code",
      "source": [
        "str2= \"sakib\"\n",
        "print(str2[-1:-3])"
      ],
      "metadata": {
        "colab": {
          "base_uri": "https://localhost:8080/"
        },
        "id": "uLWkuPHRHIXr",
        "outputId": "eb01f222-63d6-42ab-fe49-5e1313ab61e2"
      },
      "execution_count": 46,
      "outputs": [
        {
          "output_type": "stream",
          "name": "stdout",
          "text": [
            "\n"
          ]
        }
      ]
    },
    {
      "cell_type": "code",
      "source": [],
      "metadata": {
        "id": "f2vnjsqBIBXJ"
      },
      "execution_count": null,
      "outputs": []
    },
    {
      "cell_type": "markdown",
      "source": [
        "# **2.4. Python Special data types | List Tuple Set Dictionary **\n",
        "\n"
      ],
      "metadata": {
        "id": "W4NnmQH-W26Z"
      }
    },
    {
      "cell_type": "markdown",
      "metadata": {
        "id": "M6FYZhxWa-2t"
      },
      "source": [
        "**Types of Objects in Python**\n",
        "1. Immutable Objects\n",
        "2. Mutable Objects"
      ]
    },
    {
      "cell_type": "markdown",
      "metadata": {
        "id": "jtGu0nbsbDOW"
      },
      "source": [
        "**Immutable Objects:**\n",
        "\n",
        "**1. int**\n",
        "\n",
        "**2. float**\n",
        "\n",
        "**3. string**\n",
        "\n",
        "**4. bool**\n",
        "\n",
        "**5. tuple**\n",
        "\n",
        "*   ()\n",
        "*   doesn't allow --> duplicate values\n",
        "*   has no --> attribute 'append'\n",
        "*   immutable means Unchangeable\n",
        "\n"
      ]
    },
    {
      "cell_type": "markdown",
      "metadata": {
        "id": "ekg3pl-kbFQR"
      },
      "source": [
        "**Mutable Objects:**\n",
        "\n",
        "**1. List** (array in js)\n",
        "\n",
        "*   []\n",
        "*   allow --> duplicate values\n",
        "*   has --> attribute 'append'\n",
        "\n",
        "\n",
        "**2. Set**\n",
        "\n",
        "*   {} --> {'sakib' , 5.5,20}\n",
        "*   doesn't allow --> duplicate values\n",
        "*   has no --> attribute 'append'\n",
        "*   doesn't support indexing\n",
        "\n",
        "\n",
        "**3. Dictionary** (object in js)\n",
        "\n",
        "*   {} --> {'name':'sakib' , 'age':20}\n",
        "*   doesn't allow --> duplicate values\n",
        "*   has no --> attribute 'append'\n",
        "\n"
      ]
    },
    {
      "cell_type": "markdown",
      "metadata": {
        "id": "yLbT5WmhfD1C"
      },
      "source": [
        "**List**\n",
        "\n",
        "---\n",
        "\n"
      ]
    },
    {
      "cell_type": "code",
      "metadata": {
        "colab": {
          "base_uri": "https://localhost:8080/"
        },
        "id": "UMGYv02qa8yY",
        "outputId": "ab9a8c00-da19-43c0-9f40-8909b5f36116"
      },
      "source": [
        "# list should be included in the square brackets\n",
        "my_list = [1,2,3,4,5]\n",
        "print(my_list)\n",
        "type(my_list)"
      ],
      "execution_count": null,
      "outputs": [
        {
          "output_type": "stream",
          "text": [
            "[1, 2, 3, 4, 5]\n"
          ],
          "name": "stdout"
        },
        {
          "output_type": "execute_result",
          "data": {
            "text/plain": [
              "list"
            ]
          },
          "metadata": {
            "tags": []
          },
          "execution_count": 1
        }
      ]
    },
    {
      "cell_type": "code",
      "metadata": {
        "colab": {
          "base_uri": "https://localhost:8080/"
        },
        "id": "vNOsdYcOfZrM",
        "outputId": "57f8576e-16c0-4d2b-aea3-dfb1aa90c459"
      },
      "source": [
        "# lists can have multiple data types\n",
        "my_list = [2, 3, 1.8, 'English', True]\n",
        "print(my_list)"
      ],
      "execution_count": null,
      "outputs": [
        {
          "output_type": "stream",
          "text": [
            "[2, 3, 1.8, 'English', True]\n"
          ],
          "name": "stdout"
        }
      ]
    },
    {
      "cell_type": "markdown",
      "metadata": {
        "id": "kR0CJMjefx3n"
      },
      "source": [
        "Lists are Mutable. Means they are Changeable"
      ]
    },
    {
      "cell_type": "code",
      "metadata": {
        "colab": {
          "base_uri": "https://localhost:8080/"
        },
        "id": "cDqAI-_tfvrD",
        "outputId": "2fb2c7bf-ee32-4324-da7e-2160337af74c"
      },
      "source": [
        "# add elements to a list\n",
        "my_list = [2, 3, 1.8, 'English', True]\n",
        "my_list.append(6)\n",
        "print(my_list)"
      ],
      "execution_count": null,
      "outputs": [
        {
          "output_type": "stream",
          "text": [
            "[2, 3, 1.8, 'English', True, 6]\n"
          ],
          "name": "stdout"
        }
      ]
    },
    {
      "cell_type": "code",
      "metadata": {
        "colab": {
          "base_uri": "https://localhost:8080/"
        },
        "id": "HGY-f8TxgEuB",
        "outputId": "8606180a-d7af-4dc9-e796-202de5bf3f18"
      },
      "source": [
        "# print elements of a list using their index\n",
        "my_list = [2, 3, 1.8, 'English', True]\n",
        "print(my_list[0])\n",
        "print(my_list[3])"
      ],
      "execution_count": 49,
      "outputs": [
        {
          "output_type": "stream",
          "name": "stdout",
          "text": [
            "2\n",
            "English\n"
          ]
        }
      ]
    },
    {
      "cell_type": "code",
      "metadata": {
        "colab": {
          "base_uri": "https://localhost:8080/"
        },
        "id": "SRJrejNegWyM",
        "outputId": "b44a91ae-869f-4d83-f1cf-788b49634799"
      },
      "source": [
        "# lists allow duplicate values\n",
        "list_1 = [1,2,3,4,5,12,2,3]\n",
        "print(list_1)"
      ],
      "execution_count": 50,
      "outputs": [
        {
          "output_type": "stream",
          "name": "stdout",
          "text": [
            "[1, 2, 3, 4, 5, 12, 2, 3]\n"
          ]
        }
      ]
    },
    {
      "cell_type": "code",
      "metadata": {
        "colab": {
          "base_uri": "https://localhost:8080/"
        },
        "id": "OhSx_qZkgk3R",
        "outputId": "361672c3-066f-403e-e1b3-e7fc9705f50a"
      },
      "source": [
        "print(len(list_1))"
      ],
      "execution_count": null,
      "outputs": [
        {
          "output_type": "stream",
          "text": [
            "8\n"
          ],
          "name": "stdout"
        }
      ]
    },
    {
      "cell_type": "code",
      "metadata": {
        "colab": {
          "base_uri": "https://localhost:8080/"
        },
        "id": "KoBSERrlgvn4",
        "outputId": "3ee49f45-da7b-4725-f266-e08db56c8f0f"
      },
      "source": [
        "# initiating an empty list\n",
        "list_2 = []\n",
        "print(list_2)"
      ],
      "execution_count": null,
      "outputs": [
        {
          "output_type": "stream",
          "text": [
            "[]\n"
          ],
          "name": "stdout"
        }
      ]
    },
    {
      "cell_type": "code",
      "metadata": {
        "colab": {
          "base_uri": "https://localhost:8080/"
        },
        "id": "-PJaFQltg4YM",
        "outputId": "5e84ec9a-b23f-4423-884c-6dfc5f6ba47a"
      },
      "source": [
        "list_2.append(5)\n",
        "print(list_2)"
      ],
      "execution_count": null,
      "outputs": [
        {
          "output_type": "stream",
          "text": [
            "[5]\n"
          ],
          "name": "stdout"
        }
      ]
    },
    {
      "cell_type": "code",
      "metadata": {
        "colab": {
          "base_uri": "https://localhost:8080/"
        },
        "id": "nU3FsBd6g-B2",
        "outputId": "f73ea65e-5c49-4855-9c5d-106e428ef6bc"
      },
      "source": [
        "# delete an item in a list\n",
        "list_2 = [2, 3, 1.8, 'English', True, 6]\n",
        "print(list_2)\n",
        "\n",
        "# del list_2[2]\n",
        "del list_2[2:4]\n",
        "print(list_2)"
      ],
      "execution_count": 53,
      "outputs": [
        {
          "output_type": "stream",
          "name": "stdout",
          "text": [
            "[2, 3, 1.8, 'English', True, 6]\n",
            "[2, 3, True, 6]\n"
          ]
        }
      ]
    },
    {
      "cell_type": "code",
      "metadata": {
        "colab": {
          "base_uri": "https://localhost:8080/"
        },
        "id": "XbQAGCA0hX3Q",
        "outputId": "1e084135-a626-4681-bfd9-8156249ea681"
      },
      "source": [
        "# join two lists\n",
        "list_3 = [1,2,3,4,5]\n",
        "list_4 = [6,7,8,9,10]\n",
        "list_51 = [\"sakib\",2004]\n",
        "\n",
        "list_5 = list_3 + list_4\n",
        "print(list_5)\n",
        "print(list_51 + list_4)\n"
      ],
      "execution_count": 57,
      "outputs": [
        {
          "output_type": "stream",
          "name": "stdout",
          "text": [
            "[1, 2, 3, 4, 5, 6, 7, 8, 9, 10]\n",
            "['sakib', 2004, 6, 7, 8, 9, 10]\n"
          ]
        }
      ]
    },
    {
      "cell_type": "markdown",
      "metadata": {
        "id": "XoQULhPEhsSk"
      },
      "source": [
        "**Tuple**\n",
        "\n",
        "---\n",
        "\n"
      ]
    },
    {
      "cell_type": "code",
      "metadata": {
        "colab": {
          "base_uri": "https://localhost:8080/"
        },
        "id": "VSTos6r1hoAo",
        "outputId": "b5c78c19-51bb-4732-cdef-7aeb0ff0683b"
      },
      "source": [
        "tuple_1 = (2,3,4,5)\n",
        "print(tuple_1)\n",
        "type(tuple_1)"
      ],
      "execution_count": null,
      "outputs": [
        {
          "output_type": "stream",
          "text": [
            "(2, 3, 4, 5)\n"
          ],
          "name": "stdout"
        },
        {
          "output_type": "execute_result",
          "data": {
            "text/plain": [
              "tuple"
            ]
          },
          "metadata": {
            "tags": []
          },
          "execution_count": 11
        }
      ]
    },
    {
      "cell_type": "code",
      "metadata": {
        "colab": {
          "base_uri": "https://localhost:8080/"
        },
        "id": "Tdrh8JsAh37C",
        "outputId": "a0a52f85-7058-4001-d799-b8a6fc298153"
      },
      "source": [
        "# tuple allows multiple data types\n",
        "tuple_2 = (1,2,3.5, 'Machine Learning', False)\n",
        "print(tuple_2)"
      ],
      "execution_count": null,
      "outputs": [
        {
          "output_type": "stream",
          "text": [
            "(1, 2, 3.5, 'Machine Learning', False)\n"
          ],
          "name": "stdout"
        }
      ]
    },
    {
      "cell_type": "code",
      "metadata": {
        "colab": {
          "base_uri": "https://localhost:8080/"
        },
        "id": "tHxHt22fiIAg",
        "outputId": "c09d925e-9289-4cd5-9fff-52b47d8e75ef"
      },
      "source": [
        "# converting  a list to a tuple\n",
        "\n",
        "my_list = [3,4,5,6]\n",
        "print(my_list)\n",
        "\n",
        "my_tuple = tuple(my_list)\n",
        "print(my_tuple)"
      ],
      "execution_count": null,
      "outputs": [
        {
          "output_type": "stream",
          "text": [
            "[3, 4, 5, 6]\n",
            "(3, 4, 5, 6)\n"
          ],
          "name": "stdout"
        }
      ]
    },
    {
      "cell_type": "code",
      "metadata": {
        "colab": {
          "base_uri": "https://localhost:8080/"
        },
        "id": "9QRTalV1iay1",
        "outputId": "9f983fcd-54f8-42f4-93fb-b468e78b39df"
      },
      "source": [
        "print(my_tuple[0])\n",
        "print(my_tuple[1])"
      ],
      "execution_count": null,
      "outputs": [
        {
          "output_type": "stream",
          "text": [
            "3\n",
            "4\n"
          ],
          "name": "stdout"
        }
      ]
    },
    {
      "cell_type": "markdown",
      "metadata": {
        "id": "nzLtSOHCirRc"
      },
      "source": [
        "Tuples are immutable it means Unchangeable"
      ]
    },
    {
      "cell_type": "code",
      "metadata": {
        "colab": {
          "base_uri": "https://localhost:8080/",
          "height": 171
        },
        "id": "OXIstbesipDG",
        "outputId": "39957510-c58e-4568-b548-1921f85435b1"
      },
      "source": [
        "my_tuple.append(6)"
      ],
      "execution_count": null,
      "outputs": [
        {
          "output_type": "error",
          "ename": "AttributeError",
          "evalue": "ignored",
          "traceback": [
            "\u001b[0;31m---------------------------------------------------------------------------\u001b[0m",
            "\u001b[0;31mAttributeError\u001b[0m                            Traceback (most recent call last)",
            "\u001b[0;32m<ipython-input-15-4a40ddf90b2d>\u001b[0m in \u001b[0;36m<module>\u001b[0;34m()\u001b[0m\n\u001b[0;32m----> 1\u001b[0;31m \u001b[0mmy_tuple\u001b[0m\u001b[0;34m.\u001b[0m\u001b[0mappend\u001b[0m\u001b[0;34m(\u001b[0m\u001b[0;36m6\u001b[0m\u001b[0;34m)\u001b[0m\u001b[0;34m\u001b[0m\u001b[0;34m\u001b[0m\u001b[0m\n\u001b[0m",
            "\u001b[0;31mAttributeError\u001b[0m: 'tuple' object has no attribute 'append'"
          ]
        }
      ]
    },
    {
      "cell_type": "code",
      "metadata": {
        "colab": {
          "base_uri": "https://localhost:8080/"
        },
        "id": "AlOVmz6Sizsu",
        "outputId": "8426c1ba-c637-413f-bf99-9a4f6423d99e"
      },
      "source": [
        "print(len(my_tuple))"
      ],
      "execution_count": null,
      "outputs": [
        {
          "output_type": "stream",
          "text": [
            "4\n"
          ],
          "name": "stdout"
        }
      ]
    },
    {
      "cell_type": "markdown",
      "metadata": {
        "id": "ORc0vJDHjAwS"
      },
      "source": [
        "**Set**\n",
        "\n",
        "---\n",
        "\n"
      ]
    },
    {
      "cell_type": "code",
      "metadata": {
        "colab": {
          "base_uri": "https://localhost:8080/"
        },
        "id": "RjaxKroji9mw",
        "outputId": "3b3cfc79-e269-4988-8cf7-42174b77c66f"
      },
      "source": [
        "# set --> Curly brackets\n",
        "my_set = {1,2,3,4,5}\n",
        "print(my_set)\n",
        "type(my_set)"
      ],
      "execution_count": 59,
      "outputs": [
        {
          "output_type": "stream",
          "name": "stdout",
          "text": [
            "{1, 2, 3, 4, 5}\n"
          ]
        }
      ]
    },
    {
      "cell_type": "code",
      "metadata": {
        "colab": {
          "base_uri": "https://localhost:8080/",
          "height": 171
        },
        "id": "8ngbZxf0jMXk",
        "outputId": "f928e779-a7ee-453b-fbe3-9af839c25356"
      },
      "source": [
        "print(my_set[0])"
      ],
      "execution_count": null,
      "outputs": [
        {
          "output_type": "error",
          "ename": "TypeError",
          "evalue": "ignored",
          "traceback": [
            "\u001b[0;31m---------------------------------------------------------------------------\u001b[0m",
            "\u001b[0;31mTypeError\u001b[0m                                 Traceback (most recent call last)",
            "\u001b[0;32m<ipython-input-18-502d757570ee>\u001b[0m in \u001b[0;36m<module>\u001b[0;34m()\u001b[0m\n\u001b[0;32m----> 1\u001b[0;31m \u001b[0mprint\u001b[0m\u001b[0;34m(\u001b[0m\u001b[0mmy_set\u001b[0m\u001b[0;34m[\u001b[0m\u001b[0;36m0\u001b[0m\u001b[0;34m]\u001b[0m\u001b[0;34m)\u001b[0m\u001b[0;34m\u001b[0m\u001b[0;34m\u001b[0m\u001b[0m\n\u001b[0m",
            "\u001b[0;31mTypeError\u001b[0m: 'set' object does not support indexing"
          ]
        }
      ]
    },
    {
      "cell_type": "code",
      "metadata": {
        "colab": {
          "base_uri": "https://localhost:8080/"
        },
        "id": "65IgJYA5jVzr",
        "outputId": "77a0b6cc-72d2-495e-f4cc-a1cf60175622"
      },
      "source": [
        "# convert a list to a set\n",
        "list_5 = [4,5,6,7,8]\n",
        "\n",
        "x = set(list_5)\n",
        "print(x)"
      ],
      "execution_count": null,
      "outputs": [
        {
          "output_type": "stream",
          "text": [
            "{4, 5, 6, 7, 8}\n"
          ],
          "name": "stdout"
        }
      ]
    },
    {
      "cell_type": "code",
      "metadata": {
        "colab": {
          "base_uri": "https://localhost:8080/"
        },
        "id": "_0D3WDuZjrI_",
        "outputId": "a56d3ed5-0c3c-4993-f46b-a7314862e915"
      },
      "source": [
        "# set does not allow duplicate values\n",
        "set_3 = {1,2,3,4,5,1,2,3}\n",
        "print(set_3)"
      ],
      "execution_count": null,
      "outputs": [
        {
          "output_type": "stream",
          "text": [
            "{1, 2, 3, 4, 5}\n"
          ],
          "name": "stdout"
        }
      ]
    },
    {
      "cell_type": "markdown",
      "metadata": {
        "id": "W6i0Eo53j7Sx"
      },
      "source": [
        "**Dictionary**\n",
        "\n",
        "---\n",
        "\n"
      ]
    },
    {
      "cell_type": "code",
      "metadata": {
        "colab": {
          "base_uri": "https://localhost:8080/"
        },
        "id": "RZJjR0oYj3iK",
        "outputId": "928c40b2-ad74-4f8f-d941-aa9afff89b7d"
      },
      "source": [
        "my_dictionary = {'name':'David','age':30,'country':'India'}\n",
        "print(my_dictionary)\n",
        "type(my_dictionary)"
      ],
      "execution_count": null,
      "outputs": [
        {
          "output_type": "stream",
          "text": [
            "{'name': 'David', 'age': 30, 'country': 'India'}\n"
          ],
          "name": "stdout"
        },
        {
          "output_type": "execute_result",
          "data": {
            "text/plain": [
              "dict"
            ]
          },
          "metadata": {
            "tags": []
          },
          "execution_count": 21
        }
      ]
    },
    {
      "cell_type": "code",
      "metadata": {
        "colab": {
          "base_uri": "https://localhost:8080/"
        },
        "id": "gOCf8w7OkVjE",
        "outputId": "f781a022-30aa-4022-a996-fee5b54df4b0"
      },
      "source": [
        "print(my_dictionary['name'])\n",
        "print(my_dictionary['age'])\n",
        "print(my_dictionary['country'])"
      ],
      "execution_count": null,
      "outputs": [
        {
          "output_type": "stream",
          "text": [
            "David\n",
            "30\n",
            "India\n"
          ],
          "name": "stdout"
        }
      ]
    },
    {
      "cell_type": "code",
      "metadata": {
        "colab": {
          "base_uri": "https://localhost:8080/"
        },
        "id": "8AOHTq6bkoq2",
        "outputId": "8954d823-76bf-4bdc-b7bf-50e668bc19e5"
      },
      "source": [
        "# dictionary does not allow duplicate values\n",
        "dictionary_2 = {'name':'David','age':30,'country':'India','name':'David','age':30,'country':'India'}\n",
        "print(dictionary_2)"
      ],
      "execution_count": null,
      "outputs": [
        {
          "output_type": "stream",
          "text": [
            "{'name': 'David', 'age': 30, 'country': 'India'}\n"
          ],
          "name": "stdout"
        }
      ]
    },
    {
      "cell_type": "code",
      "metadata": {
        "id": "zwQtG_KYk6q9"
      },
      "source": [],
      "execution_count": null,
      "outputs": []
    }
  ]
}