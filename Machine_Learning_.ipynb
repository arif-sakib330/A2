{
  "nbformat": 4,
  "nbformat_minor": 0,
  "metadata": {
    "colab": {
      "provenance": [],
      "collapsed_sections": [
        "jO_qINe_xEsD",
        "fnBEGkSax7v8",
        "nPq566DIKAwH"
      ],
      "authorship_tag": "ABX9TyPDErg/rr+lTakEB8OpvOcl",
      "include_colab_link": true
    },
    "kernelspec": {
      "name": "python3",
      "display_name": "Python 3"
    },
    "language_info": {
      "name": "python"
    }
  },
  "cells": [
    {
      "cell_type": "markdown",
      "metadata": {
        "id": "view-in-github",
        "colab_type": "text"
      },
      "source": [
        "<a href=\"https://colab.research.google.com/github/arif-sakib330/A2/blob/main/Machine_Learning_.ipynb\" target=\"_parent\"><img src=\"https://colab.research.google.com/assets/colab-badge.svg\" alt=\"Open In Colab\"/></a>"
      ]
    },
    {
      "cell_type": "markdown",
      "source": [
        "# **Machine Learning**\n"
      ],
      "metadata": {
        "id": "jO_qINe_xEsD"
      }
    },
    {
      "cell_type": "markdown",
      "source": [
        "**Keyboard Shortcut**\n",
        "\n",
        "---\n",
        "Ctrl + /   -----------=   Comment\n",
        "\n",
        "Shift + Enter  ------=   Run + Next cell\n",
        "\n",
        "Ctrl + Enter -------=   Run\n",
        "\n",
        "Alt + Enter    --------=   Run + Create new cell\n",
        "\n",
        "Ctrl + M + A   -------=\t নতুন code cell উপর add\n",
        "\n",
        "Ctrl + M + B  -------=\t নতুন code cell নিচে add\n",
        "\n",
        "Ctrl + M + D  -------=   Current cell delete\n",
        "\n",
        "Ctrl + M + Z  -------=\t Deleted cell undo\n",
        "\n",
        "Ctrl + F\t    -----------=   Find in cell\n",
        "\n",
        "Ctrl + H\t    -----------=   Replace in cell\n",
        "\n",
        "Ctrl + Shift + F ----=  Find across notebook\n"
      ],
      "metadata": {
        "id": "7F-GBTZNNlHq"
      }
    },
    {
      "cell_type": "markdown",
      "source": [
        "# **2.2. Python Basics**"
      ],
      "metadata": {
        "id": "fnBEGkSax7v8"
      }
    },
    {
      "cell_type": "markdown",
      "source": [
        "**Programming language for ml**\n",
        "\n",
        "---\n",
        "1.   Python\n",
        "2.   R\n",
        "\n",
        "**Basic Data Types**\n",
        "\n",
        "---\n",
        "1.   int\n",
        "2.   float\n",
        "3.   str\n",
        "4.   boolean\n",
        "5.   none\n",
        "6.   complex ( 2+3j )\n",
        "\n",
        "\n",
        "\n"
      ],
      "metadata": {
        "id": "mwQ8K3fhyqNN"
      }
    },
    {
      "cell_type": "code",
      "source": [
        "print(\"Machine Learning\")"
      ],
      "metadata": {
        "colab": {
          "base_uri": "https://localhost:8080/"
        },
        "id": "WO7rEhPJy-VZ",
        "outputId": "b90ed681-40f2-483a-d724-25cf50ac6856"
      },
      "execution_count": null,
      "outputs": [
        {
          "output_type": "stream",
          "name": "stdout",
          "text": [
            "Machine Learning\n"
          ]
        }
      ]
    },
    {
      "cell_type": "code",
      "source": [
        "print(\"Arif\"+\" Mohammad\") #its called str concatenation"
      ],
      "metadata": {
        "colab": {
          "base_uri": "https://localhost:8080/"
        },
        "id": "zELvGX80zn3O",
        "outputId": "940b7475-d99d-4984-db3b-8d372eae1cb2"
      },
      "execution_count": null,
      "outputs": [
        {
          "output_type": "stream",
          "name": "stdout",
          "text": [
            "Arif Mohammad\n"
          ]
        }
      ]
    },
    {
      "cell_type": "code",
      "source": [],
      "metadata": {
        "id": "TQkkXDZpO92e"
      },
      "execution_count": null,
      "outputs": []
    },
    {
      "cell_type": "code",
      "source": [
        "print(9+12)\n",
        "print(9-12)\n",
        "print(9*12)\n",
        "print(9/12)"
      ],
      "metadata": {
        "colab": {
          "base_uri": "https://localhost:8080/"
        },
        "id": "Ace82CVR0NjA",
        "outputId": "8d2a2e54-a38e-450d-a6af-502637888ec9"
      },
      "execution_count": null,
      "outputs": [
        {
          "output_type": "stream",
          "name": "stdout",
          "text": [
            "21\n",
            "-3\n",
            "108\n",
            "0.75\n"
          ]
        }
      ]
    },
    {
      "cell_type": "code",
      "source": [
        "type (2.2)\n"
      ],
      "metadata": {
        "colab": {
          "base_uri": "https://localhost:8080/"
        },
        "id": "FRZdwtU_0-aV",
        "outputId": "34d91d30-4419-4748-9f35-1e2a8d03025c"
      },
      "execution_count": 24,
      "outputs": [
        {
          "output_type": "execute_result",
          "data": {
            "text/plain": [
              "float"
            ]
          },
          "metadata": {},
          "execution_count": 24
        }
      ]
    },
    {
      "cell_type": "code",
      "source": [
        "type(\"sakib\")\n"
      ],
      "metadata": {
        "colab": {
          "base_uri": "https://localhost:8080/"
        },
        "id": "ebP1BiEH1baw",
        "outputId": "81aa323a-b23e-41ff-9ce9-38401f076eb1"
      },
      "execution_count": null,
      "outputs": [
        {
          "output_type": "execute_result",
          "data": {
            "text/plain": [
              "str"
            ]
          },
          "metadata": {},
          "execution_count": 24
        }
      ]
    },
    {
      "cell_type": "code",
      "source": [
        "type(True)"
      ],
      "metadata": {
        "colab": {
          "base_uri": "https://localhost:8080/"
        },
        "id": "JLvzWSpN1dKu",
        "outputId": "33b22e6e-1e3e-4c5e-963b-cfaa8e37509c"
      },
      "execution_count": null,
      "outputs": [
        {
          "output_type": "execute_result",
          "data": {
            "text/plain": [
              "bool"
            ]
          },
          "metadata": {},
          "execution_count": 26
        }
      ]
    },
    {
      "cell_type": "code",
      "source": [
        "type (2)"
      ],
      "metadata": {
        "colab": {
          "base_uri": "https://localhost:8080/"
        },
        "id": "rRngOoIy1k3B",
        "outputId": "697d8d9f-3962-4a51-f4c5-cf2933f8e92e"
      },
      "execution_count": null,
      "outputs": [
        {
          "output_type": "execute_result",
          "data": {
            "text/plain": [
              "int"
            ]
          },
          "metadata": {},
          "execution_count": 3
        }
      ]
    },
    {
      "cell_type": "code",
      "source": [
        "e = 2+3j\n",
        "print(e,type(e))"
      ],
      "metadata": {
        "colab": {
          "base_uri": "https://localhost:8080/"
        },
        "id": "39_xVEemrS2U",
        "outputId": "c99fba62-eca0-4f72-b71b-999c56b45307"
      },
      "execution_count": 31,
      "outputs": [
        {
          "output_type": "stream",
          "name": "stdout",
          "text": [
            "(2+3j) <class 'complex'>\n"
          ]
        }
      ]
    },
    {
      "cell_type": "markdown",
      "source": [
        " **Constants and Variables**\n",
        "\n",
        "---\n",
        "\n"
      ],
      "metadata": {
        "id": "0VQCl2jw44CT"
      }
    },
    {
      "cell_type": "code",
      "source": [
        "hero1,hero2,hero3 = \"arif\",\"md\",\"sakib\"\n",
        "print(hero1)\n",
        "print(hero2)\n",
        "print(hero3)"
      ],
      "metadata": {
        "colab": {
          "base_uri": "https://localhost:8080/"
        },
        "id": "qgPQpNxUFN5m",
        "outputId": "6a4fb859-735c-4cd4-fa6a-044d28510ff6"
      },
      "execution_count": null,
      "outputs": [
        {
          "output_type": "stream",
          "name": "stdout",
          "text": [
            "arif\n",
            "md\n",
            "sakib\n"
          ]
        }
      ]
    },
    {
      "cell_type": "code",
      "source": [
        "x = y = z = 28\n",
        "print(x)\n",
        "print(y)\n",
        "print(z)"
      ],
      "metadata": {
        "colab": {
          "base_uri": "https://localhost:8080/"
        },
        "id": "uLaIIDXuGIRf",
        "outputId": "7f7d1da7-a661-4739-bf16-e7d2c52040c9"
      },
      "execution_count": null,
      "outputs": [
        {
          "output_type": "stream",
          "name": "stdout",
          "text": [
            "28\n",
            "28\n",
            "28\n"
          ]
        }
      ]
    },
    {
      "cell_type": "markdown",
      "source": [
        "**Input Command**\n",
        "\n",
        "---\n",
        "\n"
      ],
      "metadata": {
        "id": "uU4W-2KJGjbE"
      }
    },
    {
      "cell_type": "code",
      "source": [
        "name = input(\"enter your name : \")\n",
        "age = input(\"enter your age : \")\n",
        "print(\"Name :\",name)\n",
        "print(\"Age : \",age)"
      ],
      "metadata": {
        "colab": {
          "base_uri": "https://localhost:8080/"
        },
        "id": "W7YX7eouGsQf",
        "outputId": "1276c5b5-7aed-4b60-e60e-757ca8e7383b"
      },
      "execution_count": null,
      "outputs": [
        {
          "output_type": "stream",
          "name": "stdout",
          "text": [
            "enter your name : sakib\n",
            "enter your age : arif\n",
            "Name : sakib\n",
            "Age :  arif\n"
          ]
        }
      ]
    },
    {
      "cell_type": "code",
      "source": [
        "num1 = input(\"first num : \")\n",
        "num2 = input(\"2nd num : \")\n",
        "print(num1 + num2)\n",
        "#akane num ar addition hoi na cz input gola str hisbe input hoi tai."
      ],
      "metadata": {
        "colab": {
          "base_uri": "https://localhost:8080/"
        },
        "id": "R8ySdDqmHJT1",
        "outputId": "7447568f-e982-4b83-db3c-3e507ab08042"
      },
      "execution_count": null,
      "outputs": [
        {
          "output_type": "stream",
          "name": "stdout",
          "text": [
            "first num : 25\n",
            "2nd num : 1\n",
            "251\n"
          ]
        }
      ]
    },
    {
      "cell_type": "code",
      "source": [
        "num1 = int(input(\"first num : \"))\n",
        "num2 = int(input(\"2nd num : \"))\n",
        "print(num1 + num2)"
      ],
      "metadata": {
        "id": "B9ZiFR8aH4uo",
        "colab": {
          "base_uri": "https://localhost:8080/"
        },
        "outputId": "d3301359-b2ad-45e8-eff7-af4cc983e61d"
      },
      "execution_count": 32,
      "outputs": [
        {
          "output_type": "stream",
          "name": "stdout",
          "text": [
            "first num : 24\n",
            "2nd num : 6\n",
            "30\n"
          ]
        }
      ]
    },
    {
      "cell_type": "markdown",
      "source": [
        "**Change data type**\n",
        "\n",
        "---\n",
        "\n"
      ],
      "metadata": {
        "id": "cBJH_10TIgro"
      }
    },
    {
      "cell_type": "code",
      "source": [
        "age = 25\n",
        "age_str = str(age)\n",
        "print(age_str)\n",
        "print(type(age_str))"
      ],
      "metadata": {
        "colab": {
          "base_uri": "https://localhost:8080/"
        },
        "id": "U67BDoELIo2S",
        "outputId": "a25b4b0d-6c1b-4f3d-9de5-c45d91b220e6"
      },
      "execution_count": 33,
      "outputs": [
        {
          "output_type": "stream",
          "name": "stdout",
          "text": [
            "25\n",
            "<class 'str'>\n"
          ]
        }
      ]
    },
    {
      "cell_type": "markdown",
      "source": [
        "# **2.3 basic data type [ int , float , string , complex , boolean ]**\n",
        "\n",
        "\n"
      ],
      "metadata": {
        "id": "nPq566DIKAwH"
      }
    },
    {
      "cell_type": "markdown",
      "source": [
        "*Conversion data type to another*\n",
        "\n",
        "---\n",
        "\n"
      ],
      "metadata": {
        "id": "tmupi8DDBcUs"
      }
    },
    {
      "cell_type": "code",
      "source": [
        "a = 5\n",
        "b = 3.5\n",
        "print(float(a))\n",
        "type(float(a))\n",
        "print(int(b))\n",
        "type(int(b))"
      ],
      "metadata": {
        "id": "wQ8QuuTuBk6-",
        "colab": {
          "base_uri": "https://localhost:8080/"
        },
        "outputId": "ce38bd04-9fd5-41e1-fe7e-ee6c7cd4d018"
      },
      "execution_count": 25,
      "outputs": [
        {
          "output_type": "stream",
          "name": "stdout",
          "text": [
            "5.0\n",
            "3\n"
          ]
        },
        {
          "output_type": "execute_result",
          "data": {
            "text/plain": [
              "int"
            ]
          },
          "metadata": {},
          "execution_count": 25
        }
      ]
    },
    {
      "cell_type": "code",
      "source": [
        "condition = 7 > 5\n",
        "print(condition)\n",
        "type(condition)"
      ],
      "metadata": {
        "id": "14z8Fl95DYzA",
        "colab": {
          "base_uri": "https://localhost:8080/"
        },
        "outputId": "8e19010e-3422-4422-e938-5b9e53b41daa"
      },
      "execution_count": 34,
      "outputs": [
        {
          "output_type": "stream",
          "name": "stdout",
          "text": [
            "True\n"
          ]
        },
        {
          "output_type": "execute_result",
          "data": {
            "text/plain": [
              "bool"
            ]
          },
          "metadata": {},
          "execution_count": 34
        }
      ]
    },
    {
      "cell_type": "code",
      "source": [
        "print (\"sakib \"*10)"
      ],
      "metadata": {
        "colab": {
          "base_uri": "https://localhost:8080/"
        },
        "id": "bx3iEux5Etdj",
        "outputId": "4a6a8ba4-6490-4b7a-a5f1-8aa79c9a7353"
      },
      "execution_count": null,
      "outputs": [
        {
          "output_type": "stream",
          "name": "stdout",
          "text": [
            "sakib sakib sakib sakib sakib sakib sakib sakib sakib sakib \n"
          ]
        }
      ]
    },
    {
      "cell_type": "markdown",
      "source": [
        "**Slicing**\n",
        "\n",
        "---\n",
        "\n"
      ],
      "metadata": {
        "id": "PPfjJnQoE6sT"
      }
    },
    {
      "cell_type": "code",
      "source": [
        "str1 = \"my name is sakib\"\n",
        "print(str1[0:2])\n",
        "print(str1[0:])       # soro teke last porjonto print hbe\n",
        "print(str1[:9])       # soro teke 9 index porjonto print hbe\n",
        "print(str1[0:12:2])   # 1 letter por por print hbe\n",
        "print(str1[0:12:3])   # 2 letter por por print hbe"
      ],
      "metadata": {
        "colab": {
          "base_uri": "https://localhost:8080/"
        },
        "id": "lpYUABr7E9uH",
        "outputId": "be3099ba-78bc-4589-a208-07642f94407c"
      },
      "execution_count": null,
      "outputs": [
        {
          "output_type": "stream",
          "name": "stdout",
          "text": [
            "my\n",
            "my name is sakib\n",
            "my name i\n",
            "m aei \n",
            "mnes\n"
          ]
        }
      ]
    },
    {
      "cell_type": "markdown",
      "source": [
        "# **2.4. Python Special data types [ List Tuple Set Dictionary ]**\n",
        "\n"
      ],
      "metadata": {
        "id": "W4NnmQH-W26Z"
      }
    },
    {
      "cell_type": "markdown",
      "metadata": {
        "id": "M6FYZhxWa-2t"
      },
      "source": [
        "**Types of Objects in Python**\n",
        "1. Immutable Objects --> Unchangeable\n",
        "2. Mutable Objects  ----> Changeable"
      ]
    },
    {
      "cell_type": "markdown",
      "metadata": {
        "id": "jtGu0nbsbDOW"
      },
      "source": [
        "**Immutable Objects**\n",
        "\n",
        "**1. int**\n",
        "\n",
        "**2. float**\n",
        "\n",
        "**3. string**\n",
        "\n",
        "**4. bool**\n",
        "\n",
        "**5. tuple**\n",
        "\n",
        "*   ()\n",
        "*   doesn't allow --> duplicate values\n",
        "*   has no --> attribute 'append'\n",
        "*   support --> indexing\n",
        "\n"
      ]
    },
    {
      "cell_type": "markdown",
      "metadata": {
        "id": "ekg3pl-kbFQR"
      },
      "source": [
        "**Mutable Objects**\n",
        "\n",
        "**1. List** (array in js)\n",
        "\n",
        "*   []\n",
        "*   allow --> duplicate values\n",
        "*   has --> attribute 'append'\n",
        "*   support --> indexing\n",
        "\n",
        "\n",
        "**2. Set**\n",
        "\n",
        "*   {} --> {'sakib' , 5.5,20}\n",
        "*   doesn't allow --> duplicate values\n",
        "*   has no --> attribute 'append'\n",
        "*   doesn't support --> indexing\n",
        "\n",
        "\n",
        "**3. Dictionary** (object in js)\n",
        "\n",
        "*   {} --> {'name':'sakib' , 'age':20}\n",
        "*   doesn't allow --> duplicate values\n",
        "*   has no --> attribute 'append'\n",
        "*   doesn't support --> indexing\n",
        "\n"
      ]
    },
    {
      "cell_type": "markdown",
      "metadata": {
        "id": "yLbT5WmhfD1C"
      },
      "source": [
        "**List**\n",
        "\n",
        "---\n",
        "\n"
      ]
    },
    {
      "cell_type": "code",
      "metadata": {
        "colab": {
          "base_uri": "https://localhost:8080/"
        },
        "id": "UMGYv02qa8yY",
        "outputId": "ab9a8c00-da19-43c0-9f40-8909b5f36116"
      },
      "source": [
        "# list should be included in the square brackets\n",
        "my_list = [1,2,3,4,5]\n",
        "print(my_list)\n",
        "type(my_list)"
      ],
      "execution_count": null,
      "outputs": [
        {
          "output_type": "stream",
          "text": [
            "[1, 2, 3, 4, 5]\n"
          ],
          "name": "stdout"
        },
        {
          "output_type": "execute_result",
          "data": {
            "text/plain": [
              "list"
            ]
          },
          "metadata": {
            "tags": []
          },
          "execution_count": 1
        }
      ]
    },
    {
      "cell_type": "code",
      "metadata": {
        "colab": {
          "base_uri": "https://localhost:8080/"
        },
        "id": "vNOsdYcOfZrM",
        "outputId": "6c571521-2342-4d69-96ab-1d9d401e6c80"
      },
      "source": [
        "# lists can have multiple data types\n",
        "my_list = [2, 3, 1.8, 'English', True,True, 'English']\n",
        "print(my_list)\n",
        "print(my_list[0])\n",
        "print(my_list[0:4])"
      ],
      "execution_count": 38,
      "outputs": [
        {
          "output_type": "stream",
          "name": "stdout",
          "text": [
            "[2, 3, 1.8, 'English', True, True, 'English']\n",
            "2\n",
            "[2, 3, 1.8, 'English']\n"
          ]
        }
      ]
    },
    {
      "cell_type": "markdown",
      "metadata": {
        "id": "kR0CJMjefx3n"
      },
      "source": [
        "Lists are Mutable. Means they are Changeable"
      ]
    },
    {
      "cell_type": "code",
      "metadata": {
        "colab": {
          "base_uri": "https://localhost:8080/"
        },
        "id": "cDqAI-_tfvrD",
        "outputId": "685e91d9-1e99-4cbb-9602-3e38d5a38fdb"
      },
      "source": [
        "# add elements to a list\n",
        "my_list = [2, 3, 1.8, 'English', True]\n",
        "my_list.append(\"sakib\")\n",
        "print(my_list)\n",
        "\n",
        "#can check length\n",
        "length = (len(my_list))\n",
        "print('Length is',length)\n",
        "# initiating an empty list\n",
        "list_2 = []\n",
        "print(list_2)"
      ],
      "execution_count": 46,
      "outputs": [
        {
          "output_type": "stream",
          "name": "stdout",
          "text": [
            "[2, 3, 1.8, 'English', True, 'sakib']\n",
            "Length is 6\n",
            "[]\n"
          ]
        }
      ]
    },
    {
      "cell_type": "code",
      "metadata": {
        "colab": {
          "base_uri": "https://localhost:8080/"
        },
        "id": "nU3FsBd6g-B2",
        "outputId": "232a24f4-9aa7-4a48-f13c-1128fad7e132"
      },
      "source": [
        "# delete an item in a list\n",
        "list_2 = [2, 3, 1.8, 'English', True, 6]\n",
        "\n",
        "del list_2[3]\n",
        "print(list_2)\n",
        "\n",
        "list_3 = ['arif', 'sakib', True, 6]\n",
        "del list_3[0:3]\n",
        "print(list_3)"
      ],
      "execution_count": 65,
      "outputs": [
        {
          "output_type": "stream",
          "name": "stdout",
          "text": [
            "[2, 3, 1.8, True, 6]\n",
            "[6]\n"
          ]
        }
      ]
    },
    {
      "cell_type": "code",
      "metadata": {
        "colab": {
          "base_uri": "https://localhost:8080/"
        },
        "id": "XbQAGCA0hX3Q",
        "outputId": "82645ca0-442c-443d-f0f3-920de1ef8dbe"
      },
      "source": [
        "# join two lists\n",
        "list_4 = [1,2,3,4,5]\n",
        "list_6 = [\"sakib\",2004]\n",
        "\n",
        "list_5 = list_3 + list_4\n",
        "# print(list_5)\n",
        "print(list_6 + list_4)\n"
      ],
      "execution_count": 67,
      "outputs": [
        {
          "output_type": "stream",
          "name": "stdout",
          "text": [
            "['sakib', 2004, 1, 2, 3, 4, 5]\n"
          ]
        }
      ]
    },
    {
      "cell_type": "markdown",
      "metadata": {
        "id": "XoQULhPEhsSk"
      },
      "source": [
        "**Tuple**\n",
        "\n",
        "---\n",
        "\n"
      ]
    },
    {
      "cell_type": "code",
      "metadata": {
        "colab": {
          "base_uri": "https://localhost:8080/"
        },
        "id": "VSTos6r1hoAo",
        "outputId": "e9d8d60e-7e75-4eb8-ddc4-d91f938098fa"
      },
      "source": [
        "tuple_1 = (2,3,4,5)\n",
        "print(tuple_1)\n",
        "print(len(tuple_1))\n",
        "type(tuple_1)"
      ],
      "execution_count": 75,
      "outputs": [
        {
          "output_type": "stream",
          "name": "stdout",
          "text": [
            "(2, 3, 4, 5)\n",
            "4\n"
          ]
        },
        {
          "output_type": "execute_result",
          "data": {
            "text/plain": [
              "tuple"
            ]
          },
          "metadata": {},
          "execution_count": 75
        }
      ]
    },
    {
      "cell_type": "code",
      "metadata": {
        "colab": {
          "base_uri": "https://localhost:8080/"
        },
        "id": "Tdrh8JsAh37C",
        "outputId": "a0a52f85-7058-4001-d799-b8a6fc298153"
      },
      "source": [
        "# tuple allows multiple data types\n",
        "tuple_2 = (1,2,3.5, 'Machine Learning', False)\n",
        "print(tuple_2)"
      ],
      "execution_count": null,
      "outputs": [
        {
          "output_type": "stream",
          "text": [
            "(1, 2, 3.5, 'Machine Learning', False)\n"
          ],
          "name": "stdout"
        }
      ]
    },
    {
      "cell_type": "code",
      "metadata": {
        "colab": {
          "base_uri": "https://localhost:8080/"
        },
        "id": "tHxHt22fiIAg",
        "outputId": "08e8bc24-87da-4485-a2f9-641ce8e81273"
      },
      "source": [
        "# converting  a list to a tuple\n",
        "\n",
        "my_list = [3,4,5,6]\n",
        "print(my_list)\n",
        "print(my_tuple[1])\n",
        "\n",
        "\n",
        "my_tuple = tuple(my_list)\n",
        "print(my_tuple)\n",
        "print(my_tuple[0])"
      ],
      "execution_count": 71,
      "outputs": [
        {
          "output_type": "stream",
          "name": "stdout",
          "text": [
            "[3, 4, 5, 6]\n",
            "4\n",
            "(3, 4, 5, 6)\n",
            "3\n"
          ]
        }
      ]
    },
    {
      "cell_type": "markdown",
      "metadata": {
        "id": "nzLtSOHCirRc"
      },
      "source": [
        "Tuples are immutable it means Unchangeable"
      ]
    },
    {
      "cell_type": "code",
      "metadata": {
        "colab": {
          "base_uri": "https://localhost:8080/",
          "height": 145
        },
        "id": "OXIstbesipDG",
        "outputId": "c63d1be6-67b8-4837-f2ce-8a020a50531a"
      },
      "source": [
        "my_tuple.append(6)"
      ],
      "execution_count": 72,
      "outputs": [
        {
          "output_type": "error",
          "ename": "AttributeError",
          "evalue": "'tuple' object has no attribute 'append'",
          "traceback": [
            "\u001b[0;31m---------------------------------------------------------------------------\u001b[0m",
            "\u001b[0;31mAttributeError\u001b[0m                            Traceback (most recent call last)",
            "\u001b[0;32m/tmp/ipython-input-2191879701.py\u001b[0m in \u001b[0;36m<cell line: 0>\u001b[0;34m()\u001b[0m\n\u001b[0;32m----> 1\u001b[0;31m \u001b[0mmy_tuple\u001b[0m\u001b[0;34m.\u001b[0m\u001b[0mappend\u001b[0m\u001b[0;34m(\u001b[0m\u001b[0;36m6\u001b[0m\u001b[0;34m)\u001b[0m\u001b[0;34m\u001b[0m\u001b[0;34m\u001b[0m\u001b[0m\n\u001b[0m",
            "\u001b[0;31mAttributeError\u001b[0m: 'tuple' object has no attribute 'append'"
          ]
        }
      ]
    },
    {
      "cell_type": "markdown",
      "metadata": {
        "id": "ORc0vJDHjAwS"
      },
      "source": [
        "**Set**\n",
        "\n",
        "---\n",
        "\n"
      ]
    },
    {
      "cell_type": "code",
      "metadata": {
        "colab": {
          "base_uri": "https://localhost:8080/"
        },
        "id": "RjaxKroji9mw",
        "outputId": "9598add5-bfd9-48d8-c9e3-b07ac40ebdd1"
      },
      "source": [
        "# set --> Curly brackets\n",
        "my_set = {1,2,3,4,5}\n",
        "print(my_set)\n",
        "print(len(my_set))\n",
        "type(my_set)\n"
      ],
      "execution_count": 79,
      "outputs": [
        {
          "output_type": "stream",
          "name": "stdout",
          "text": [
            "{1, 2, 3, 4, 5}\n",
            "5\n"
          ]
        },
        {
          "output_type": "execute_result",
          "data": {
            "text/plain": [
              "set"
            ]
          },
          "metadata": {},
          "execution_count": 79
        }
      ]
    },
    {
      "cell_type": "code",
      "metadata": {
        "colab": {
          "base_uri": "https://localhost:8080/",
          "height": 171
        },
        "id": "8ngbZxf0jMXk",
        "outputId": "f928e779-a7ee-453b-fbe3-9af839c25356"
      },
      "source": [
        "print(my_set[0])"
      ],
      "execution_count": null,
      "outputs": [
        {
          "output_type": "error",
          "ename": "TypeError",
          "evalue": "ignored",
          "traceback": [
            "\u001b[0;31m---------------------------------------------------------------------------\u001b[0m",
            "\u001b[0;31mTypeError\u001b[0m                                 Traceback (most recent call last)",
            "\u001b[0;32m<ipython-input-18-502d757570ee>\u001b[0m in \u001b[0;36m<module>\u001b[0;34m()\u001b[0m\n\u001b[0;32m----> 1\u001b[0;31m \u001b[0mprint\u001b[0m\u001b[0;34m(\u001b[0m\u001b[0mmy_set\u001b[0m\u001b[0;34m[\u001b[0m\u001b[0;36m0\u001b[0m\u001b[0;34m]\u001b[0m\u001b[0;34m)\u001b[0m\u001b[0;34m\u001b[0m\u001b[0;34m\u001b[0m\u001b[0m\n\u001b[0m",
            "\u001b[0;31mTypeError\u001b[0m: 'set' object does not support indexing"
          ]
        }
      ]
    },
    {
      "cell_type": "code",
      "metadata": {
        "colab": {
          "base_uri": "https://localhost:8080/"
        },
        "id": "65IgJYA5jVzr",
        "outputId": "49f83941-4507-4660-d47f-fd1eb4b52749"
      },
      "source": [
        "# convert a list to a set\n",
        "list_5 = [4,5,6,7,8]\n",
        "\n",
        "new_set = set(list_5)\n",
        "print(new_set)\n",
        "type(new_set)"
      ],
      "execution_count": 81,
      "outputs": [
        {
          "output_type": "stream",
          "name": "stdout",
          "text": [
            "{4, 5, 6, 7, 8}\n"
          ]
        },
        {
          "output_type": "execute_result",
          "data": {
            "text/plain": [
              "set"
            ]
          },
          "metadata": {},
          "execution_count": 81
        }
      ]
    },
    {
      "cell_type": "code",
      "metadata": {
        "colab": {
          "base_uri": "https://localhost:8080/"
        },
        "id": "_0D3WDuZjrI_",
        "outputId": "72052182-931d-48d5-b61d-f07d8f98c3bf"
      },
      "source": [
        "# set does not allow duplicate values\n",
        "set_3 = {1,1,2,2,3,2,4,5,5}\n",
        "print(set_3)"
      ],
      "execution_count": 83,
      "outputs": [
        {
          "output_type": "stream",
          "name": "stdout",
          "text": [
            "{1, 2, 3, 4, 5}\n"
          ]
        }
      ]
    },
    {
      "cell_type": "markdown",
      "metadata": {
        "id": "W6i0Eo53j7Sx"
      },
      "source": [
        "**Dictionary**\n",
        "\n",
        "---\n",
        "\n"
      ]
    },
    {
      "cell_type": "code",
      "metadata": {
        "colab": {
          "base_uri": "https://localhost:8080/"
        },
        "id": "RZJjR0oYj3iK",
        "outputId": "f7de3ee4-a049-4c11-9380-b061985869aa"
      },
      "source": [
        "my_dictionary = {'name':'David','age':30,'country':'India'}\n",
        "print(my_dictionary)\n",
        "print(my_dictionary['name'])\n",
        "print(my_dictionary['age'])\n",
        "print(my_dictionary['country'])\n",
        "type(my_dictionary)"
      ],
      "execution_count": 86,
      "outputs": [
        {
          "output_type": "stream",
          "name": "stdout",
          "text": [
            "{'name': 'David', 'age': 30, 'country': 'India'}\n",
            "David\n",
            "30\n",
            "India\n"
          ]
        },
        {
          "output_type": "execute_result",
          "data": {
            "text/plain": [
              "dict"
            ]
          },
          "metadata": {},
          "execution_count": 86
        }
      ]
    },
    {
      "cell_type": "code",
      "metadata": {
        "colab": {
          "base_uri": "https://localhost:8080/"
        },
        "id": "8AOHTq6bkoq2",
        "outputId": "62b7afd6-1269-440b-e78b-348cb39c0c0f"
      },
      "source": [
        "# dictionary does not allow duplicate values\n",
        "dictionary_2 = {'name':'David','age':30,'country':'India','country':'India','name':'David','age':30,}\n",
        "print(dictionary_2)"
      ],
      "execution_count": 87,
      "outputs": [
        {
          "output_type": "stream",
          "name": "stdout",
          "text": [
            "{'name': 'David', 'age': 30, 'country': 'India'}\n"
          ]
        }
      ]
    },
    {
      "cell_type": "markdown",
      "source": [
        "# 2.5. Operators in Python |Arithmetic Assignment Comparison Logical Identity Member"
      ],
      "metadata": {
        "id": "gEzzBfrOin1R"
      }
    },
    {
      "cell_type": "markdown",
      "metadata": {
        "id": "z8iVDs11-ogJ"
      },
      "source": [
        "**Operators in Python**\n",
        "1. Arithmetic Operators\n",
        "2. Assignment Operators\n",
        "3. Comparison Operators\n",
        "4. Logical Operators\n",
        "5. Identity Operators\n",
        "6. Membership Operators"
      ]
    },
    {
      "cell_type": "markdown",
      "metadata": {
        "id": "5NTu_QYw_212"
      },
      "source": [
        "**1. Arithmetic Operators**\n",
        "\n",
        "---\n",
        "\n"
      ]
    },
    {
      "cell_type": "code",
      "metadata": {
        "colab": {
          "base_uri": "https://localhost:8080/"
        },
        "id": "CXYtGkkZ59n1",
        "outputId": "ed373db5-6740-40fa-c477-d0f2f67fddc3"
      },
      "source": [
        "num_1 = 20\n",
        "num_2 = 10\n",
        "\n",
        "# addition\n",
        "sum = num_1 + num_2\n",
        "print('sum = ',sum)\n",
        "\n",
        "# subtraction\n",
        "diff = num_1 - num_2\n",
        "print('difference = ',diff)\n",
        "\n",
        "# multiplication\n",
        "pro = num_1 * num_2\n",
        "print('product = ',pro)\n",
        "\n",
        "# division\n",
        "quo = num_1 / num_2\n",
        "print('quotient = ',quo)\n",
        "\n",
        "# exponent\n",
        "exp = num_1**num_2   # 20^10\n",
        "print('exponent = ',exp)\n",
        "\n",
        "# modulus\n",
        "mod = num_1 % num_2\n",
        "print('reminder = ',mod)"
      ],
      "execution_count": null,
      "outputs": [
        {
          "output_type": "stream",
          "text": [
            "sum =  30\n",
            "difference =  10\n",
            "product =  200\n",
            "quotient =  2.0\n",
            "exponent =  10240000000000\n",
            "reminder =  0\n"
          ],
          "name": "stdout"
        }
      ]
    },
    {
      "cell_type": "markdown",
      "metadata": {
        "id": "E12rvExzBIh7"
      },
      "source": [
        "**2. Assignment Operators**\n",
        "\n",
        "---\n",
        "\n",
        "1.  +=\n",
        "\n",
        "2.  -=\n",
        "\n",
        "3.  *=\n",
        "\n",
        "4.  **=\n",
        "\n",
        "5.  /=\n",
        "\n",
        "6.  %="
      ]
    },
    {
      "cell_type": "code",
      "metadata": {
        "colab": {
          "base_uri": "https://localhost:8080/"
        },
        "id": "YwWiUzaNBDaD",
        "outputId": "88fe459c-1a64-4c71-ff7f-123ab343e2f4"
      },
      "source": [
        "a = 5\n",
        "print(a)\n",
        "b = 5\n",
        "b += 5   # b = b + 5\n",
        "print(b)\n",
        "c = 5\n",
        "c -= 2   # c = c-2\n",
        "print(c)\n",
        "d = 95\n",
        "d %= 10\n",
        "print(d)\n",
        "e = 2\n",
        "e **= 3\n",
        "print(e)"
      ],
      "execution_count": 18,
      "outputs": [
        {
          "output_type": "stream",
          "name": "stdout",
          "text": [
            "5\n",
            "10\n",
            "3\n",
            "5\n",
            "8\n"
          ]
        }
      ]
    },
    {
      "cell_type": "markdown",
      "metadata": {
        "id": "0B6StO-HBv1E"
      },
      "source": [
        "**3. Comparison Operators**\n",
        "\n",
        "---\n",
        "\n"
      ]
    },
    {
      "cell_type": "code",
      "metadata": {
        "colab": {
          "base_uri": "https://localhost:8080/"
        },
        "id": "9L2aTaKUBftz",
        "outputId": "06d877ad-ed03-4508-b4d9-29234c8b0397"
      },
      "source": [
        "a = 5\n",
        "b = 10\n",
        "\n",
        "print('a == b is',a == b)   # equal to\n",
        "print('a != b is',a != b)   # not equal to\n",
        "print('a >  b is',a >  b)   # greater than\n",
        "print('a <  b is',a <  b)   # lessthan\n",
        "print('a <= b is',a <= b)   # equal greaterthan\n",
        "print('a >= b is',a >= b)   # equal greaterthan"
      ],
      "execution_count": 5,
      "outputs": [
        {
          "output_type": "stream",
          "name": "stdout",
          "text": [
            "a == b is False\n",
            "a != b is True\n",
            "a >  b is False\n",
            "a <  b is True\n",
            "a <= b is True\n",
            "a >= b is False\n"
          ]
        }
      ]
    },
    {
      "cell_type": "markdown",
      "metadata": {
        "id": "5vG_Gp-DCc-u"
      },
      "source": [
        "**4. Logical Operators**\n",
        "\n",
        "---\n",
        "\n",
        "\n",
        "*   and  --- [both should be true]\n",
        "*   or   -----[at least one condition should True]\n",
        "*   not  ----[it reverse the answer]\n",
        "\n",
        "\n",
        "\n"
      ]
    },
    {
      "cell_type": "code",
      "metadata": {
        "colab": {
          "base_uri": "https://localhost:8080/"
        },
        "id": "XKVEPY3UCVqy",
        "outputId": "48152426-7541-4483-a272-85090c9c20f3"
      },
      "source": [
        "a = 10\n",
        "\n",
        "print( a>20 and a>5)\n",
        "print( a>20 or a>5)\n",
        "print( not( a>8 and a>5))"
      ],
      "execution_count": null,
      "outputs": [
        {
          "output_type": "stream",
          "text": [
            "False\n",
            "True\n",
            "False\n"
          ],
          "name": "stdout"
        }
      ]
    },
    {
      "cell_type": "markdown",
      "metadata": {
        "id": "xzOpIj7eDKrz"
      },
      "source": [
        "**5. Identity Operato**\n",
        "\n",
        "---\n",
        "\n",
        "\n",
        "\n",
        "1. is\n",
        "\n",
        "2. is not"
      ]
    },
    {
      "cell_type": "code",
      "metadata": {
        "colab": {
          "base_uri": "https://localhost:8080/"
        },
        "id": "005EmRZMDERy",
        "outputId": "d429e520-3ed8-4ad7-a6be-3933570ea3d7"
      },
      "source": [
        "x = 5\n",
        "y = 5\n",
        "z = 10\n",
        "\n",
        "print(x is y)\n",
        "print(x is z)\n",
        "print(x is not y)"
      ],
      "execution_count": 9,
      "outputs": [
        {
          "output_type": "stream",
          "name": "stdout",
          "text": [
            "True\n",
            "False\n",
            "False\n"
          ]
        }
      ]
    },
    {
      "cell_type": "markdown",
      "metadata": {
        "id": "mvIH9bSEDlSw"
      },
      "source": [
        "**6. Membership Operator:**\n",
        "\n",
        "---\n",
        "\n",
        "1.  in\n",
        "\n",
        "2.  not in"
      ]
    },
    {
      "cell_type": "code",
      "metadata": {
        "colab": {
          "base_uri": "https://localhost:8080/"
        },
        "id": "IkUTVRTmDfic",
        "outputId": "f8670c4f-f650-402d-8226-7fb0b2d38f0f"
      },
      "source": [
        "a = 5\n",
        "b =10\n",
        "\n",
        "c = [1,2,3,4,5]\n",
        "print( a in c)\n",
        "print( b in c)\n",
        "print( a not in c)\n",
        "print( b not in c)"
      ],
      "execution_count": 10,
      "outputs": [
        {
          "output_type": "stream",
          "name": "stdout",
          "text": [
            "True\n",
            "False\n",
            "False\n",
            "True\n"
          ]
        }
      ]
    }
  ]
}